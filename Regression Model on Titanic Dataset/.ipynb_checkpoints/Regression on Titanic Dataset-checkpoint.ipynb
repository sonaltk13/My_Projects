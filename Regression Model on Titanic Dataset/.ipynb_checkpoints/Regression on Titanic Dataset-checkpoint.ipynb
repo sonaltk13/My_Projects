{
 "cells": [
  {
   "cell_type": "code",
   "execution_count": 438,
   "id": "d638ca94",
   "metadata": {},
   "outputs": [],
   "source": [
    "import pandas as pd\n",
    "import matplotlib.pyplot as plt\n",
    "import seaborn as sns\n",
    "import numpy as np\n",
    "\n",
    "\n",
    "from matplotlib import pyplot as plt\n",
    "import numpy as np\n",
    "import seaborn as sns\n",
    "from sklearn.metrics import plot_roc_curve, roc_curve, auc\n",
    "from sklearn.metrics import RocCurveDisplay\n",
    "\n",
    "\n",
    "from sklearn.linear_model import LogisticRegression\n",
    "from sklearn.model_selection import train_test_split\n",
    "\n",
    "import statsmodels.discrete.discrete_model as sm\n",
    "\n",
    "from sklearn.metrics import accuracy_score\n",
    "from sklearn.metrics import precision_score, recall_score, f1_score\n",
    "from sklearn.metrics import confusion_matrix\n",
    "from sklearn.metrics import ConfusionMatrixDisplay\n",
    "\n",
    "\n",
    "from sklearn.tree import DecisionTreeClassifier, plot_tree\n",
    "from sklearn.ensemble import RandomForestClassifier\n"
   ]
  },
  {
   "cell_type": "code",
   "execution_count": 439,
   "id": "cc079992",
   "metadata": {},
   "outputs": [],
   "source": [
    "import warnings\n",
    "warnings.filterwarnings('ignore', category = UserWarning)"
   ]
  },
  {
   "cell_type": "markdown",
   "id": "34c73ae7",
   "metadata": {},
   "source": [
    "# Load the Datasets"
   ]
  },
  {
   "cell_type": "code",
   "execution_count": 440,
   "id": "f2bc202e",
   "metadata": {
    "scrolled": true
   },
   "outputs": [
    {
     "data": {
      "text/html": [
       "<div>\n",
       "<style scoped>\n",
       "    .dataframe tbody tr th:only-of-type {\n",
       "        vertical-align: middle;\n",
       "    }\n",
       "\n",
       "    .dataframe tbody tr th {\n",
       "        vertical-align: top;\n",
       "    }\n",
       "\n",
       "    .dataframe thead th {\n",
       "        text-align: right;\n",
       "    }\n",
       "</style>\n",
       "<table border=\"1\" class=\"dataframe\">\n",
       "  <thead>\n",
       "    <tr style=\"text-align: right;\">\n",
       "      <th></th>\n",
       "      <th>PassengerId</th>\n",
       "      <th>Survived</th>\n",
       "      <th>Pclass</th>\n",
       "      <th>Name</th>\n",
       "      <th>Sex</th>\n",
       "      <th>Age</th>\n",
       "      <th>SibSp</th>\n",
       "      <th>Parch</th>\n",
       "      <th>Ticket</th>\n",
       "      <th>Fare</th>\n",
       "      <th>Cabin</th>\n",
       "      <th>Embarked</th>\n",
       "    </tr>\n",
       "  </thead>\n",
       "  <tbody>\n",
       "    <tr>\n",
       "      <th>0</th>\n",
       "      <td>1</td>\n",
       "      <td>0</td>\n",
       "      <td>3</td>\n",
       "      <td>Braund, Mr. Owen Harris</td>\n",
       "      <td>male</td>\n",
       "      <td>22.0</td>\n",
       "      <td>1</td>\n",
       "      <td>0</td>\n",
       "      <td>A/5 21171</td>\n",
       "      <td>7.2500</td>\n",
       "      <td>NaN</td>\n",
       "      <td>S</td>\n",
       "    </tr>\n",
       "    <tr>\n",
       "      <th>1</th>\n",
       "      <td>2</td>\n",
       "      <td>1</td>\n",
       "      <td>1</td>\n",
       "      <td>Cumings, Mrs. John Bradley (Florence Briggs Th...</td>\n",
       "      <td>female</td>\n",
       "      <td>38.0</td>\n",
       "      <td>1</td>\n",
       "      <td>0</td>\n",
       "      <td>PC 17599</td>\n",
       "      <td>71.2833</td>\n",
       "      <td>C85</td>\n",
       "      <td>C</td>\n",
       "    </tr>\n",
       "    <tr>\n",
       "      <th>2</th>\n",
       "      <td>3</td>\n",
       "      <td>1</td>\n",
       "      <td>3</td>\n",
       "      <td>Heikkinen, Miss. Laina</td>\n",
       "      <td>female</td>\n",
       "      <td>26.0</td>\n",
       "      <td>0</td>\n",
       "      <td>0</td>\n",
       "      <td>STON/O2. 3101282</td>\n",
       "      <td>7.9250</td>\n",
       "      <td>NaN</td>\n",
       "      <td>S</td>\n",
       "    </tr>\n",
       "    <tr>\n",
       "      <th>3</th>\n",
       "      <td>4</td>\n",
       "      <td>1</td>\n",
       "      <td>1</td>\n",
       "      <td>Futrelle, Mrs. Jacques Heath (Lily May Peel)</td>\n",
       "      <td>female</td>\n",
       "      <td>35.0</td>\n",
       "      <td>1</td>\n",
       "      <td>0</td>\n",
       "      <td>113803</td>\n",
       "      <td>53.1000</td>\n",
       "      <td>C123</td>\n",
       "      <td>S</td>\n",
       "    </tr>\n",
       "    <tr>\n",
       "      <th>4</th>\n",
       "      <td>5</td>\n",
       "      <td>0</td>\n",
       "      <td>3</td>\n",
       "      <td>Allen, Mr. William Henry</td>\n",
       "      <td>male</td>\n",
       "      <td>35.0</td>\n",
       "      <td>0</td>\n",
       "      <td>0</td>\n",
       "      <td>373450</td>\n",
       "      <td>8.0500</td>\n",
       "      <td>NaN</td>\n",
       "      <td>S</td>\n",
       "    </tr>\n",
       "    <tr>\n",
       "      <th>5</th>\n",
       "      <td>6</td>\n",
       "      <td>0</td>\n",
       "      <td>3</td>\n",
       "      <td>Moran, Mr. James</td>\n",
       "      <td>male</td>\n",
       "      <td>NaN</td>\n",
       "      <td>0</td>\n",
       "      <td>0</td>\n",
       "      <td>330877</td>\n",
       "      <td>8.4583</td>\n",
       "      <td>NaN</td>\n",
       "      <td>Q</td>\n",
       "    </tr>\n",
       "    <tr>\n",
       "      <th>6</th>\n",
       "      <td>7</td>\n",
       "      <td>0</td>\n",
       "      <td>1</td>\n",
       "      <td>McCarthy, Mr. Timothy J</td>\n",
       "      <td>male</td>\n",
       "      <td>54.0</td>\n",
       "      <td>0</td>\n",
       "      <td>0</td>\n",
       "      <td>17463</td>\n",
       "      <td>51.8625</td>\n",
       "      <td>E46</td>\n",
       "      <td>S</td>\n",
       "    </tr>\n",
       "    <tr>\n",
       "      <th>7</th>\n",
       "      <td>8</td>\n",
       "      <td>0</td>\n",
       "      <td>3</td>\n",
       "      <td>Palsson, Master. Gosta Leonard</td>\n",
       "      <td>male</td>\n",
       "      <td>2.0</td>\n",
       "      <td>3</td>\n",
       "      <td>1</td>\n",
       "      <td>349909</td>\n",
       "      <td>21.0750</td>\n",
       "      <td>NaN</td>\n",
       "      <td>S</td>\n",
       "    </tr>\n",
       "    <tr>\n",
       "      <th>8</th>\n",
       "      <td>9</td>\n",
       "      <td>1</td>\n",
       "      <td>3</td>\n",
       "      <td>Johnson, Mrs. Oscar W (Elisabeth Vilhelmina Berg)</td>\n",
       "      <td>female</td>\n",
       "      <td>27.0</td>\n",
       "      <td>0</td>\n",
       "      <td>2</td>\n",
       "      <td>347742</td>\n",
       "      <td>11.1333</td>\n",
       "      <td>NaN</td>\n",
       "      <td>S</td>\n",
       "    </tr>\n",
       "    <tr>\n",
       "      <th>9</th>\n",
       "      <td>10</td>\n",
       "      <td>1</td>\n",
       "      <td>2</td>\n",
       "      <td>Nasser, Mrs. Nicholas (Adele Achem)</td>\n",
       "      <td>female</td>\n",
       "      <td>14.0</td>\n",
       "      <td>1</td>\n",
       "      <td>0</td>\n",
       "      <td>237736</td>\n",
       "      <td>30.0708</td>\n",
       "      <td>NaN</td>\n",
       "      <td>C</td>\n",
       "    </tr>\n",
       "    <tr>\n",
       "      <th>10</th>\n",
       "      <td>11</td>\n",
       "      <td>1</td>\n",
       "      <td>3</td>\n",
       "      <td>Sandstrom, Miss. Marguerite Rut</td>\n",
       "      <td>female</td>\n",
       "      <td>4.0</td>\n",
       "      <td>1</td>\n",
       "      <td>1</td>\n",
       "      <td>PP 9549</td>\n",
       "      <td>16.7000</td>\n",
       "      <td>G6</td>\n",
       "      <td>S</td>\n",
       "    </tr>\n",
       "    <tr>\n",
       "      <th>11</th>\n",
       "      <td>12</td>\n",
       "      <td>1</td>\n",
       "      <td>1</td>\n",
       "      <td>Bonnell, Miss. Elizabeth</td>\n",
       "      <td>female</td>\n",
       "      <td>58.0</td>\n",
       "      <td>0</td>\n",
       "      <td>0</td>\n",
       "      <td>113783</td>\n",
       "      <td>26.5500</td>\n",
       "      <td>C103</td>\n",
       "      <td>S</td>\n",
       "    </tr>\n",
       "    <tr>\n",
       "      <th>12</th>\n",
       "      <td>13</td>\n",
       "      <td>0</td>\n",
       "      <td>3</td>\n",
       "      <td>Saundercock, Mr. William Henry</td>\n",
       "      <td>male</td>\n",
       "      <td>20.0</td>\n",
       "      <td>0</td>\n",
       "      <td>0</td>\n",
       "      <td>A/5. 2151</td>\n",
       "      <td>8.0500</td>\n",
       "      <td>NaN</td>\n",
       "      <td>S</td>\n",
       "    </tr>\n",
       "    <tr>\n",
       "      <th>13</th>\n",
       "      <td>14</td>\n",
       "      <td>0</td>\n",
       "      <td>3</td>\n",
       "      <td>Andersson, Mr. Anders Johan</td>\n",
       "      <td>male</td>\n",
       "      <td>39.0</td>\n",
       "      <td>1</td>\n",
       "      <td>5</td>\n",
       "      <td>347082</td>\n",
       "      <td>31.2750</td>\n",
       "      <td>NaN</td>\n",
       "      <td>S</td>\n",
       "    </tr>\n",
       "    <tr>\n",
       "      <th>14</th>\n",
       "      <td>15</td>\n",
       "      <td>0</td>\n",
       "      <td>3</td>\n",
       "      <td>Vestrom, Miss. Hulda Amanda Adolfina</td>\n",
       "      <td>female</td>\n",
       "      <td>14.0</td>\n",
       "      <td>0</td>\n",
       "      <td>0</td>\n",
       "      <td>350406</td>\n",
       "      <td>7.8542</td>\n",
       "      <td>NaN</td>\n",
       "      <td>S</td>\n",
       "    </tr>\n",
       "    <tr>\n",
       "      <th>15</th>\n",
       "      <td>16</td>\n",
       "      <td>1</td>\n",
       "      <td>2</td>\n",
       "      <td>Hewlett, Mrs. (Mary D Kingcome)</td>\n",
       "      <td>female</td>\n",
       "      <td>55.0</td>\n",
       "      <td>0</td>\n",
       "      <td>0</td>\n",
       "      <td>248706</td>\n",
       "      <td>16.0000</td>\n",
       "      <td>NaN</td>\n",
       "      <td>S</td>\n",
       "    </tr>\n",
       "    <tr>\n",
       "      <th>16</th>\n",
       "      <td>17</td>\n",
       "      <td>0</td>\n",
       "      <td>3</td>\n",
       "      <td>Rice, Master. Eugene</td>\n",
       "      <td>male</td>\n",
       "      <td>2.0</td>\n",
       "      <td>4</td>\n",
       "      <td>1</td>\n",
       "      <td>382652</td>\n",
       "      <td>29.1250</td>\n",
       "      <td>NaN</td>\n",
       "      <td>Q</td>\n",
       "    </tr>\n",
       "    <tr>\n",
       "      <th>17</th>\n",
       "      <td>18</td>\n",
       "      <td>1</td>\n",
       "      <td>2</td>\n",
       "      <td>Williams, Mr. Charles Eugene</td>\n",
       "      <td>male</td>\n",
       "      <td>NaN</td>\n",
       "      <td>0</td>\n",
       "      <td>0</td>\n",
       "      <td>244373</td>\n",
       "      <td>13.0000</td>\n",
       "      <td>NaN</td>\n",
       "      <td>S</td>\n",
       "    </tr>\n",
       "    <tr>\n",
       "      <th>18</th>\n",
       "      <td>19</td>\n",
       "      <td>0</td>\n",
       "      <td>3</td>\n",
       "      <td>Vander Planke, Mrs. Julius (Emelia Maria Vande...</td>\n",
       "      <td>female</td>\n",
       "      <td>31.0</td>\n",
       "      <td>1</td>\n",
       "      <td>0</td>\n",
       "      <td>345763</td>\n",
       "      <td>18.0000</td>\n",
       "      <td>NaN</td>\n",
       "      <td>S</td>\n",
       "    </tr>\n",
       "    <tr>\n",
       "      <th>19</th>\n",
       "      <td>20</td>\n",
       "      <td>1</td>\n",
       "      <td>3</td>\n",
       "      <td>Masselmani, Mrs. Fatima</td>\n",
       "      <td>female</td>\n",
       "      <td>NaN</td>\n",
       "      <td>0</td>\n",
       "      <td>0</td>\n",
       "      <td>2649</td>\n",
       "      <td>7.2250</td>\n",
       "      <td>NaN</td>\n",
       "      <td>C</td>\n",
       "    </tr>\n",
       "  </tbody>\n",
       "</table>\n",
       "</div>"
      ],
      "text/plain": [
       "    PassengerId  Survived  Pclass  \\\n",
       "0             1         0       3   \n",
       "1             2         1       1   \n",
       "2             3         1       3   \n",
       "3             4         1       1   \n",
       "4             5         0       3   \n",
       "5             6         0       3   \n",
       "6             7         0       1   \n",
       "7             8         0       3   \n",
       "8             9         1       3   \n",
       "9            10         1       2   \n",
       "10           11         1       3   \n",
       "11           12         1       1   \n",
       "12           13         0       3   \n",
       "13           14         0       3   \n",
       "14           15         0       3   \n",
       "15           16         1       2   \n",
       "16           17         0       3   \n",
       "17           18         1       2   \n",
       "18           19         0       3   \n",
       "19           20         1       3   \n",
       "\n",
       "                                                 Name     Sex   Age  SibSp  \\\n",
       "0                             Braund, Mr. Owen Harris    male  22.0      1   \n",
       "1   Cumings, Mrs. John Bradley (Florence Briggs Th...  female  38.0      1   \n",
       "2                              Heikkinen, Miss. Laina  female  26.0      0   \n",
       "3        Futrelle, Mrs. Jacques Heath (Lily May Peel)  female  35.0      1   \n",
       "4                            Allen, Mr. William Henry    male  35.0      0   \n",
       "5                                    Moran, Mr. James    male   NaN      0   \n",
       "6                             McCarthy, Mr. Timothy J    male  54.0      0   \n",
       "7                      Palsson, Master. Gosta Leonard    male   2.0      3   \n",
       "8   Johnson, Mrs. Oscar W (Elisabeth Vilhelmina Berg)  female  27.0      0   \n",
       "9                 Nasser, Mrs. Nicholas (Adele Achem)  female  14.0      1   \n",
       "10                    Sandstrom, Miss. Marguerite Rut  female   4.0      1   \n",
       "11                           Bonnell, Miss. Elizabeth  female  58.0      0   \n",
       "12                     Saundercock, Mr. William Henry    male  20.0      0   \n",
       "13                        Andersson, Mr. Anders Johan    male  39.0      1   \n",
       "14               Vestrom, Miss. Hulda Amanda Adolfina  female  14.0      0   \n",
       "15                   Hewlett, Mrs. (Mary D Kingcome)   female  55.0      0   \n",
       "16                               Rice, Master. Eugene    male   2.0      4   \n",
       "17                       Williams, Mr. Charles Eugene    male   NaN      0   \n",
       "18  Vander Planke, Mrs. Julius (Emelia Maria Vande...  female  31.0      1   \n",
       "19                            Masselmani, Mrs. Fatima  female   NaN      0   \n",
       "\n",
       "    Parch            Ticket     Fare Cabin Embarked  \n",
       "0       0         A/5 21171   7.2500   NaN        S  \n",
       "1       0          PC 17599  71.2833   C85        C  \n",
       "2       0  STON/O2. 3101282   7.9250   NaN        S  \n",
       "3       0            113803  53.1000  C123        S  \n",
       "4       0            373450   8.0500   NaN        S  \n",
       "5       0            330877   8.4583   NaN        Q  \n",
       "6       0             17463  51.8625   E46        S  \n",
       "7       1            349909  21.0750   NaN        S  \n",
       "8       2            347742  11.1333   NaN        S  \n",
       "9       0            237736  30.0708   NaN        C  \n",
       "10      1           PP 9549  16.7000    G6        S  \n",
       "11      0            113783  26.5500  C103        S  \n",
       "12      0         A/5. 2151   8.0500   NaN        S  \n",
       "13      5            347082  31.2750   NaN        S  \n",
       "14      0            350406   7.8542   NaN        S  \n",
       "15      0            248706  16.0000   NaN        S  \n",
       "16      1            382652  29.1250   NaN        Q  \n",
       "17      0            244373  13.0000   NaN        S  \n",
       "18      0            345763  18.0000   NaN        S  \n",
       "19      0              2649   7.2250   NaN        C  "
      ]
     },
     "execution_count": 440,
     "metadata": {},
     "output_type": "execute_result"
    }
   ],
   "source": [
    "df = pd.read_csv('train.csv')\n",
    "\n",
    "df.head(20)"
   ]
  },
  {
   "cell_type": "code",
   "execution_count": 441,
   "id": "17e76c76",
   "metadata": {},
   "outputs": [
    {
     "name": "stdout",
     "output_type": "stream",
     "text": [
      "<class 'pandas.core.frame.DataFrame'>\n",
      "RangeIndex: 891 entries, 0 to 890\n",
      "Data columns (total 12 columns):\n",
      " #   Column       Non-Null Count  Dtype  \n",
      "---  ------       --------------  -----  \n",
      " 0   PassengerId  891 non-null    int64  \n",
      " 1   Survived     891 non-null    int64  \n",
      " 2   Pclass       891 non-null    int64  \n",
      " 3   Name         891 non-null    object \n",
      " 4   Sex          891 non-null    object \n",
      " 5   Age          714 non-null    float64\n",
      " 6   SibSp        891 non-null    int64  \n",
      " 7   Parch        891 non-null    int64  \n",
      " 8   Ticket       891 non-null    object \n",
      " 9   Fare         891 non-null    float64\n",
      " 10  Cabin        204 non-null    object \n",
      " 11  Embarked     889 non-null    object \n",
      "dtypes: float64(2), int64(5), object(5)\n",
      "memory usage: 83.7+ KB\n"
     ]
    }
   ],
   "source": [
    "df.info()"
   ]
  },
  {
   "cell_type": "code",
   "execution_count": 442,
   "id": "32d3e37c",
   "metadata": {},
   "outputs": [],
   "source": [
    "#Drop the columns that are not needed\n",
    "df = df.drop(['PassengerId', 'Name','Ticket','Cabin','Fare'],axis =1)\n"
   ]
  },
  {
   "cell_type": "code",
   "execution_count": 443,
   "id": "dde13d87",
   "metadata": {},
   "outputs": [
    {
     "data": {
      "text/plain": [
       "Survived      0\n",
       "Pclass        0\n",
       "Sex           0\n",
       "Age         177\n",
       "SibSp         0\n",
       "Parch         0\n",
       "Embarked      2\n",
       "dtype: int64"
      ]
     },
     "execution_count": 443,
     "metadata": {},
     "output_type": "execute_result"
    }
   ],
   "source": [
    "df.isna().sum()"
   ]
  },
  {
   "cell_type": "code",
   "execution_count": 444,
   "id": "2572533b",
   "metadata": {},
   "outputs": [
    {
     "data": {
      "text/plain": [
       "<AxesSubplot:>"
      ]
     },
     "execution_count": 444,
     "metadata": {},
     "output_type": "execute_result"
    },
    {
     "data": {
      "image/png": "[encoded data removed]",
      "text/plain": [
       "<Figure size 432x288 with 1 Axes>"
      ]
     },
     "metadata": {},
     "output_type": "display_data"
    }
   ],
   "source": [
    "df.isna().sum().plot.bar()"
   ]
  },
  {
   "cell_type": "code",
   "execution_count": 445,
   "id": "36acd855",
   "metadata": {},
   "outputs": [
    {
     "data": {
      "text/html": [
       "<div>\n",
       "<style scoped>\n",
       "    .dataframe tbody tr th:only-of-type {\n",
       "        vertical-align: middle;\n",
       "    }\n",
       "\n",
       "    .dataframe tbody tr th {\n",
       "        vertical-align: top;\n",
       "    }\n",
       "\n",
       "    .dataframe thead th {\n",
       "        text-align: right;\n",
       "    }\n",
       "</style>\n",
       "<table border=\"1\" class=\"dataframe\">\n",
       "  <thead>\n",
       "    <tr style=\"text-align: right;\">\n",
       "      <th></th>\n",
       "      <th>Survived</th>\n",
       "      <th>Pclass</th>\n",
       "      <th>Sex</th>\n",
       "      <th>Age</th>\n",
       "      <th>SibSp</th>\n",
       "      <th>Parch</th>\n",
       "      <th>Embarked</th>\n",
       "    </tr>\n",
       "  </thead>\n",
       "  <tbody>\n",
       "    <tr>\n",
       "      <th>0</th>\n",
       "      <td>0</td>\n",
       "      <td>3</td>\n",
       "      <td>0</td>\n",
       "      <td>22.0</td>\n",
       "      <td>1</td>\n",
       "      <td>0</td>\n",
       "      <td>1.0</td>\n",
       "    </tr>\n",
       "    <tr>\n",
       "      <th>1</th>\n",
       "      <td>1</td>\n",
       "      <td>1</td>\n",
       "      <td>1</td>\n",
       "      <td>38.0</td>\n",
       "      <td>1</td>\n",
       "      <td>0</td>\n",
       "      <td>0.0</td>\n",
       "    </tr>\n",
       "    <tr>\n",
       "      <th>2</th>\n",
       "      <td>1</td>\n",
       "      <td>3</td>\n",
       "      <td>1</td>\n",
       "      <td>26.0</td>\n",
       "      <td>0</td>\n",
       "      <td>0</td>\n",
       "      <td>1.0</td>\n",
       "    </tr>\n",
       "    <tr>\n",
       "      <th>3</th>\n",
       "      <td>1</td>\n",
       "      <td>1</td>\n",
       "      <td>1</td>\n",
       "      <td>35.0</td>\n",
       "      <td>1</td>\n",
       "      <td>0</td>\n",
       "      <td>1.0</td>\n",
       "    </tr>\n",
       "    <tr>\n",
       "      <th>4</th>\n",
       "      <td>0</td>\n",
       "      <td>3</td>\n",
       "      <td>0</td>\n",
       "      <td>35.0</td>\n",
       "      <td>0</td>\n",
       "      <td>0</td>\n",
       "      <td>1.0</td>\n",
       "    </tr>\n",
       "  </tbody>\n",
       "</table>\n",
       "</div>"
      ],
      "text/plain": [
       "   Survived  Pclass  Sex   Age  SibSp  Parch  Embarked\n",
       "0         0       3    0  22.0      1      0       1.0\n",
       "1         1       1    1  38.0      1      0       0.0\n",
       "2         1       3    1  26.0      0      0       1.0\n",
       "3         1       1    1  35.0      1      0       1.0\n",
       "4         0       3    0  35.0      0      0       1.0"
      ]
     },
     "execution_count": 445,
     "metadata": {},
     "output_type": "execute_result"
    }
   ],
   "source": [
    "#Convert the Sex and the Embarked Column to numerical values\n",
    "df['Sex'] = df['Sex'].map({'male': 0, 'female': 1})\n",
    "df['Embarked'] = df['Embarked'].map({'S':1, 'C':0, 'Q':2})\n",
    "df.head()"
   ]
  },
  {
   "cell_type": "code",
   "execution_count": 446,
   "id": "2843d6a1",
   "metadata": {},
   "outputs": [],
   "source": [
    "df.dropna(subset=['Embarked'], inplace = True)\n",
    "df['Embarked'] = df['Embarked'].astype(int)"
   ]
  },
  {
   "cell_type": "code",
   "execution_count": 447,
   "id": "e4d41518",
   "metadata": {},
   "outputs": [
    {
     "data": {
      "text/plain": [
       "array([1, 0, 2])"
      ]
     },
     "execution_count": 447,
     "metadata": {},
     "output_type": "execute_result"
    }
   ],
   "source": [
    "df['Embarked'].unique()"
   ]
  },
  {
   "cell_type": "code",
   "execution_count": 448,
   "id": "48853ff0",
   "metadata": {},
   "outputs": [
    {
     "data": {
      "text/html": [
       "<div>\n",
       "<style scoped>\n",
       "    .dataframe tbody tr th:only-of-type {\n",
       "        vertical-align: middle;\n",
       "    }\n",
       "\n",
       "    .dataframe tbody tr th {\n",
       "        vertical-align: top;\n",
       "    }\n",
       "\n",
       "    .dataframe thead th {\n",
       "        text-align: right;\n",
       "    }\n",
       "</style>\n",
       "<table border=\"1\" class=\"dataframe\">\n",
       "  <thead>\n",
       "    <tr style=\"text-align: right;\">\n",
       "      <th></th>\n",
       "      <th>Survived</th>\n",
       "      <th>Pclass</th>\n",
       "      <th>Sex</th>\n",
       "      <th>Age</th>\n",
       "      <th>SibSp</th>\n",
       "      <th>Parch</th>\n",
       "      <th>Embarked</th>\n",
       "    </tr>\n",
       "  </thead>\n",
       "  <tbody>\n",
       "    <tr>\n",
       "      <th>0</th>\n",
       "      <td>0</td>\n",
       "      <td>3</td>\n",
       "      <td>0</td>\n",
       "      <td>22</td>\n",
       "      <td>1</td>\n",
       "      <td>0</td>\n",
       "      <td>1</td>\n",
       "    </tr>\n",
       "    <tr>\n",
       "      <th>1</th>\n",
       "      <td>1</td>\n",
       "      <td>1</td>\n",
       "      <td>1</td>\n",
       "      <td>38</td>\n",
       "      <td>1</td>\n",
       "      <td>0</td>\n",
       "      <td>0</td>\n",
       "    </tr>\n",
       "    <tr>\n",
       "      <th>2</th>\n",
       "      <td>1</td>\n",
       "      <td>3</td>\n",
       "      <td>1</td>\n",
       "      <td>26</td>\n",
       "      <td>0</td>\n",
       "      <td>0</td>\n",
       "      <td>1</td>\n",
       "    </tr>\n",
       "    <tr>\n",
       "      <th>3</th>\n",
       "      <td>1</td>\n",
       "      <td>1</td>\n",
       "      <td>1</td>\n",
       "      <td>35</td>\n",
       "      <td>1</td>\n",
       "      <td>0</td>\n",
       "      <td>1</td>\n",
       "    </tr>\n",
       "    <tr>\n",
       "      <th>4</th>\n",
       "      <td>0</td>\n",
       "      <td>3</td>\n",
       "      <td>0</td>\n",
       "      <td>35</td>\n",
       "      <td>0</td>\n",
       "      <td>0</td>\n",
       "      <td>1</td>\n",
       "    </tr>\n",
       "  </tbody>\n",
       "</table>\n",
       "</div>"
      ],
      "text/plain": [
       "   Survived  Pclass  Sex  Age  SibSp  Parch  Embarked\n",
       "0         0       3    0   22      1      0         1\n",
       "1         1       1    1   38      1      0         0\n",
       "2         1       3    1   26      0      0         1\n",
       "3         1       1    1   35      1      0         1\n",
       "4         0       3    0   35      0      0         1"
      ]
     },
     "execution_count": 448,
     "metadata": {},
     "output_type": "execute_result"
    }
   ],
   "source": [
    "#Replace missing age values by the mean age.\n",
    "avg = df['Age'].mean()\n",
    "df['Age'].replace(to_replace = np.nan, value =avg, inplace = True)\n",
    "df['Age'] = df['Age'].astype(int)\n",
    "#Remove Infinite Values\n",
    "df = df[np.isfinite(df).all(1)]\n",
    "df.head(5)\n"
   ]
  },
  {
   "cell_type": "markdown",
   "id": "e2c39bca",
   "metadata": {},
   "source": [
    "# Exporatory Data Analysis"
   ]
  },
  {
   "cell_type": "code",
   "execution_count": 449,
   "id": "00deb593",
   "metadata": {},
   "outputs": [
    {
     "data": {
      "text/plain": [
       "array([0, 1], dtype=int64)"
      ]
     },
     "execution_count": 449,
     "metadata": {},
     "output_type": "execute_result"
    }
   ],
   "source": [
    "df['Sex'].unique()"
   ]
  },
  {
   "cell_type": "code",
   "execution_count": 450,
   "id": "8c025e8a",
   "metadata": {},
   "outputs": [
    {
     "data": {
      "text/plain": [
       "array([22, 38, 26, 35, 29, 54,  2, 27, 14,  4, 58, 20, 39, 55, 31, 34, 15,\n",
       "       28,  8, 19, 40, 66, 42, 21, 18,  3,  7, 49, 65,  5, 11, 45, 17, 32,\n",
       "       16, 25,  0, 30, 33, 23, 24, 46, 59, 71, 37, 47, 70, 12,  9, 36, 51,\n",
       "       44,  1, 61, 56, 50, 62, 41, 52, 63, 43, 60, 10, 64, 13, 48, 53, 57,\n",
       "       80,  6, 74])"
      ]
     },
     "execution_count": 450,
     "metadata": {},
     "output_type": "execute_result"
    }
   ],
   "source": [
    "df['Age'].unique()"
   ]
  },
  {
   "cell_type": "code",
   "execution_count": 451,
   "id": "1351db09",
   "metadata": {},
   "outputs": [
    {
     "data": {
      "image/png": "[encoded data removed]",
      "text/plain": [
       "<Figure size 720x360 with 1 Axes>"
      ]
     },
     "metadata": {},
     "output_type": "display_data"
    }
   ],
   "source": [
    "#histogram showing the age distribution of passengers. Compare surviving/non-surviving passengers.\n",
    "plt.figure(figsize =(10,5))\n",
    "sns.set_style('whitegrid')\n",
    "sns.histplot( x='Age', hue='Survived', data=df, multiple='dodge', shrink =0.8, bins =20)\n",
    "plt.xticks(np.linspace(0,80,21));\n"
   ]
  },
  {
   "cell_type": "code",
   "execution_count": 452,
   "id": "2ba990fb",
   "metadata": {},
   "outputs": [
    {
     "data": {
      "text/plain": [
       "Survived    0.626168\n",
       "Pclass      0.626168\n",
       "Sex         0.626168\n",
       "Age         0.626168\n",
       "SibSp       0.626168\n",
       "Parch       0.626168\n",
       "Embarked    0.626168\n",
       "dtype: float64"
      ]
     },
     "execution_count": 452,
     "metadata": {},
     "output_type": "execute_result"
    }
   ],
   "source": [
    "# proportion of surviving 1st class passengers with regards to the total number of 1st class passengers.\n",
    "count_sur_first = df[(df.Survived == 1 ) & (df.Pclass == 1)].count()\n",
    "#count_sur_first\n",
    "count_first = df[df.Pclass ==1].count()\n",
    "prop = count_sur_first/count_first\n",
    "prop"
   ]
  },
  {
   "cell_type": "code",
   "execution_count": 453,
   "id": "a8da78f3",
   "metadata": {},
   "outputs": [
    {
     "data": {
      "image/png": "[encoded data removed]",
      "text/plain": [
       "<Figure size 360x360 with 1 Axes>"
      ]
     },
     "metadata": {},
     "output_type": "display_data"
    }
   ],
   "source": [
    "#bar plot with separate bars for male/female passengers and 1st/2nd/3rd class passengers.\n",
    "plt.figure(figsize =(5,5))\n",
    "sns.histplot( x='Sex', hue='Pclass', data=df, multiple='dodge', shrink =5)\n",
    "plt.xlabel('Gender')\n",
    "plt.xticks(np.linspace(0,1,0));"
   ]
  },
  {
   "cell_type": "code",
   "execution_count": 454,
   "id": "08bd5b1c",
   "metadata": {},
   "outputs": [
    {
     "name": "stdout",
     "output_type": "stream",
     "text": [
      " Average Age of Survived Passengers=28.3 \n",
      " Average Age of Non Survived Passengers=30.24\n"
     ]
    }
   ],
   "source": [
    "#Calculate the average age for survived and drowned passengers separately.\n",
    "avg_age_survived = df[df['Survived']==1].Age. mean()\n",
    "avg_age_drowned = df[df['Survived']==0].Age. mean()\n",
    "print(f\"\"\" Average Age of Survived Passengers={round(avg_age_survived,2)} \\n Average Age of Non Survived Passengers={round(avg_age_drowned,2)}\"\"\")"
   ]
  },
  {
   "cell_type": "code",
   "execution_count": 455,
   "id": "90f728d2",
   "metadata": {},
   "outputs": [
    {
     "data": {
      "text/html": [
       "<div>\n",
       "<style scoped>\n",
       "    .dataframe tbody tr th:only-of-type {\n",
       "        vertical-align: middle;\n",
       "    }\n",
       "\n",
       "    .dataframe tbody tr th {\n",
       "        vertical-align: top;\n",
       "    }\n",
       "\n",
       "    .dataframe thead th {\n",
       "        text-align: right;\n",
       "    }\n",
       "</style>\n",
       "<table border=\"1\" class=\"dataframe\">\n",
       "  <thead>\n",
       "    <tr style=\"text-align: right;\">\n",
       "      <th></th>\n",
       "      <th></th>\n",
       "      <th>Survived</th>\n",
       "    </tr>\n",
       "    <tr>\n",
       "      <th>Pclass</th>\n",
       "      <th>Sex</th>\n",
       "      <th></th>\n",
       "    </tr>\n",
       "  </thead>\n",
       "  <tbody>\n",
       "    <tr>\n",
       "      <th rowspan=\"2\" valign=\"top\">1</th>\n",
       "      <th>0</th>\n",
       "      <td>45</td>\n",
       "    </tr>\n",
       "    <tr>\n",
       "      <th>1</th>\n",
       "      <td>89</td>\n",
       "    </tr>\n",
       "    <tr>\n",
       "      <th rowspan=\"2\" valign=\"top\">2</th>\n",
       "      <th>0</th>\n",
       "      <td>17</td>\n",
       "    </tr>\n",
       "    <tr>\n",
       "      <th>1</th>\n",
       "      <td>70</td>\n",
       "    </tr>\n",
       "    <tr>\n",
       "      <th rowspan=\"2\" valign=\"top\">3</th>\n",
       "      <th>0</th>\n",
       "      <td>47</td>\n",
       "    </tr>\n",
       "    <tr>\n",
       "      <th>1</th>\n",
       "      <td>72</td>\n",
       "    </tr>\n",
       "  </tbody>\n",
       "</table>\n",
       "</div>"
      ],
      "text/plain": [
       "            Survived\n",
       "Pclass Sex          \n",
       "1      0          45\n",
       "       1          89\n",
       "2      0          17\n",
       "       1          70\n",
       "3      0          47\n",
       "       1          72"
      ]
     },
     "execution_count": 455,
     "metadata": {},
     "output_type": "execute_result"
    }
   ],
   "source": [
    "#Create a table counting the number of surviving/dead passengers separately for 1st/2nd/3rd class and male/female.\n",
    "#df_table = df.groupby(['Pclass','Survived','Sex']).count()['PassengerId'].unstack()\n",
    "#df_table\n",
    "df_table = df.groupby(['Pclass','Sex']).sum()['Survived']\n",
    "df_table = pd.DataFrame(df_table)\n",
    "df_table"
   ]
  },
  {
   "cell_type": "code",
   "execution_count": 456,
   "id": "f1ee4710",
   "metadata": {},
   "outputs": [
    {
     "data": {
      "image/png": "[encoded data removed]",
      "text/plain": [
       "<Figure size 432x288 with 1 Axes>"
      ]
     },
     "metadata": {},
     "output_type": "display_data"
    }
   ],
   "source": [
    "axes = df['Sex'].value_counts().plot.bar(rot=0, subplots=True)\n",
    "                   \n",
    "#axes[1].legend(loc=2)  "
   ]
  },
  {
   "cell_type": "code",
   "execution_count": 457,
   "id": "c452d116",
   "metadata": {},
   "outputs": [
    {
     "data": {
      "image/png": "[encoded data removed]",
      "text/plain": [
       "<Figure size 432x288 with 1 Axes>"
      ]
     },
     "metadata": {},
     "output_type": "display_data"
    }
   ],
   "source": [
    "axes = df['Survived'].value_counts().plot.bar(rot=0, subplots=True)"
   ]
  },
  {
   "cell_type": "markdown",
   "id": "3e7022c6",
   "metadata": {},
   "source": [
    "# Logistic Regression Model w/o Feature Engineering"
   ]
  },
  {
   "cell_type": "code",
   "execution_count": 458,
   "id": "c57c3286",
   "metadata": {},
   "outputs": [
    {
     "data": {
      "text/plain": [
       "((889, 6), (889,))"
      ]
     },
     "execution_count": 458,
     "metadata": {},
     "output_type": "execute_result"
    }
   ],
   "source": [
    "#Define the Dependent and Independent Variables\n",
    "X = df[['Pclass','Sex','Embarked','Age','SibSp','Parch']] #X\n",
    "y = df['Survived'] #y\n",
    "X.shape, y.shape"
   ]
  },
  {
   "cell_type": "code",
   "execution_count": 459,
   "id": "373a2948",
   "metadata": {},
   "outputs": [
    {
     "name": "stdout",
     "output_type": "stream",
     "text": [
      "Training Score: 0.7912912912912913\n",
      " Testing Score: 0.78\n",
      "Precision: 0.73\n",
      " Recall: 0.71\n",
      "F1 Score: 0.72\n"
     ]
    }
   ],
   "source": [
    "#Train and Fit a Logistics Regression Model m_lgr\n",
    "\n",
    "#Split the Training and Test Datasets\n",
    "Xtrain, Xtest, ytrain, ytest = train_test_split(X, y, random_state=100)\n",
    "#Xtrain.shape, ytrain.shape, Xtest.shape, ytest.shape\n",
    "\n",
    "# instantiate the model \n",
    "m_lgr = LogisticRegression() # build the model\n",
    "\n",
    "# fit the model\n",
    "m_lgr.fit(Xtrain,ytrain)\n",
    "\n",
    "#Calculate the Accuracy Score\n",
    "m_lgr_score = m_lgr.score(Xtrain,ytrain)\n",
    "print(f'Training Score: {m_lgr.score(Xtrain,ytrain)}\\n Testing Score: {round(m_lgr.score(Xtest,ytest),2)}')\n",
    "\n",
    "\n",
    "#Predict the Values of y using the Fitted model\n",
    "ypred = m_lgr.predict(X)\n",
    "m_lgr_precision = np.round(precision_score(y, ypred),2)\n",
    "m_lgr_recall = round(recall_score(y,ypred),2)\n",
    "m_lgr_f1score = round(f1_score(y,ypred),2)\n",
    "print(f'Precision: {m_lgr_precision}\\n Recall: {m_lgr_recall}')\n",
    "print(f'F1 Score: {m_lgr_f1score}')\n"
   ]
  },
  {
   "cell_type": "code",
   "execution_count": 460,
   "id": "d7b12d10",
   "metadata": {},
   "outputs": [
    {
     "name": "stdout",
     "output_type": "stream",
     "text": [
      "Optimization terminated successfully.\n",
      "         Current function value: 0.464460\n",
      "         Iterations 6\n",
      "Pclass     -0.623016\n",
      "Sex         2.791173\n",
      "Embarked   -0.009521\n",
      "Age        -0.004440\n",
      "SibSp      -0.226293\n",
      "Parch      -0.030644\n",
      "dtype: float64\n",
      "                           Logit Regression Results                           \n",
      "==============================================================================\n",
      "Dep. Variable:               Survived   No. Observations:                  889\n",
      "Model:                          Logit   Df Residuals:                      883\n",
      "Method:                           MLE   Df Model:                            5\n",
      "Date:                Mon, 30 Jan 2023   Pseudo R-squ.:                  0.3018\n",
      "Time:                        08:18:36   Log-Likelihood:                -412.91\n",
      "converged:                       True   LL-Null:                       -591.41\n",
      "Covariance Type:            nonrobust   LLR p-value:                 5.424e-75\n",
      "==============================================================================\n",
      "                 coef    std err          z      P>|z|      [0.025      0.975]\n",
      "------------------------------------------------------------------------------\n",
      "Pclass        -0.6230      0.084     -7.379      0.000      -0.788      -0.458\n",
      "Sex            2.7912      0.188     14.867      0.000       2.423       3.159\n",
      "Embarked      -0.0095      0.175     -0.054      0.957      -0.353       0.334\n",
      "Age           -0.0044      0.005     -0.946      0.344      -0.014       0.005\n",
      "SibSp         -0.2263      0.096     -2.346      0.019      -0.415      -0.037\n",
      "Parch         -0.0306      0.111     -0.276      0.783      -0.248       0.187\n",
      "==============================================================================\n"
     ]
    }
   ],
   "source": [
    "#Detailed Summary of the Fitted Model\n",
    "logit = sm.Logit(y, X)\n",
    "f = logit.fit()\n",
    "print(f.params)\n",
    "print(f.summary())"
   ]
  },
  {
   "cell_type": "code",
   "execution_count": 461,
   "id": "905b4009",
   "metadata": {},
   "outputs": [
    {
     "data": {
      "text/plain": [
       "((889, 3), (889,))"
      ]
     },
     "execution_count": 461,
     "metadata": {},
     "output_type": "execute_result"
    }
   ],
   "source": [
    "#Dependent and Independent Variables\n",
    "X1 = df[['Pclass','Sex','SibSp']] #X\n",
    "y1 = df['Survived'] #y\n",
    "X1.shape, y1.shape"
   ]
  },
  {
   "cell_type": "code",
   "execution_count": 462,
   "id": "a976cf30",
   "metadata": {},
   "outputs": [
    {
     "name": "stdout",
     "output_type": "stream",
     "text": [
      "Training Score: 0.7957957957957958\n",
      " Testing Score: 0.81\n",
      "Precision: 0.78\n",
      " Recall: 0.67\n",
      "F1 Score: 0.72\n"
     ]
    }
   ],
   "source": [
    "#Train and Fit a Logistics Regression Model with the Embarked, age and the Parch Column dropped\n",
    "\n",
    "\n",
    "#Split the Training and Test Datasets\n",
    "Xtrain1, Xtest1, ytrain1, ytest1 = train_test_split(X1, y1, random_state=100)\n",
    "#Xtrain.shape, ytrain.shape, Xtest.shape, ytest.shape\n",
    "\n",
    "# instantiate the model \n",
    "m_lgr1 = LogisticRegression() # build the model\n",
    "\n",
    "# fit the model\n",
    "m_lgr1.fit(Xtrain1,ytrain1)\n",
    "\n",
    "#Calculate the Accuracy Score\n",
    "m_lgr1_score = m_lgr1.score(Xtrain1,ytrain1)\n",
    "print(f'Training Score: {m_lgr1.score(Xtrain1,ytrain1)}\\n Testing Score: {round(m_lgr1.score(Xtest1,ytest1),2)}')\n",
    "\n",
    "\n",
    "#Predict the Values of y using the Fitted model\n",
    "ypred1 = m_lgr1.predict(X1)\n",
    "m_lgr1_precision = np.round(precision_score(y1, ypred1),2)\n",
    "m_lgr1_recall = round(recall_score(y1,ypred1),2)\n",
    "m_lgr1_f1score = round(f1_score(y1,ypred1),2)\n",
    "print(f'Precision: {m_lgr1_precision}\\n Recall: {m_lgr1_recall}')\n",
    "print(f'F1 Score: {m_lgr1_f1score}')"
   ]
  },
  {
   "cell_type": "markdown",
   "id": "c5d6ca3b",
   "metadata": {},
   "source": [
    "# Evaluating the Model"
   ]
  },
  {
   "cell_type": "code",
   "execution_count": 463,
   "id": "29e50a3f",
   "metadata": {},
   "outputs": [
    {
     "data": {
      "text/plain": [
       "array([[460,  89],\n",
       "       [ 99, 241]], dtype=int64)"
      ]
     },
     "execution_count": 463,
     "metadata": {},
     "output_type": "execute_result"
    }
   ],
   "source": [
    "#Confusion Matrix\n",
    "conf = confusion_matrix(y,ypred)\n",
    "conf\n"
   ]
  },
  {
   "cell_type": "code",
   "execution_count": 464,
   "id": "049e53c7",
   "metadata": {},
   "outputs": [
    {
     "data": {
      "image/png": "[encoded data removed]",
      "text/plain": [
       "<Figure size 432x360 with 2 Axes>"
      ]
     },
     "metadata": {},
     "output_type": "display_data"
    }
   ],
   "source": [
    "#Plot the Confusion Matrix with the Heatmap Function\n",
    "\n",
    "#%matplotlib inline\n",
    "\n",
    "def plot_heatmap(confusion):\n",
    "    \n",
    "    plt.figure(figsize=(6,5))\n",
    "    sns.heatmap(confusion,\n",
    "                xticklabels = np.unique(y),\n",
    "                yticklabels = np.unique(y),\n",
    "                cmap = 'BuPu',\n",
    "                annot=True,\n",
    "                fmt = 'g'\n",
    "               )\n",
    "\n",
    "    # fmt is used to switch off scientific notation\n",
    "    plt.xlabel('Predicted', fontsize=14)\n",
    "    plt.ylabel('Actual', fontsize = 14)\n",
    "plot_heatmap(conf)\n",
    "    #https://fmt.dev/latest/syntax.html"
   ]
  },
  {
   "cell_type": "code",
   "execution_count": 465,
   "id": "20a294dc",
   "metadata": {},
   "outputs": [
    {
     "name": "stderr",
     "output_type": "stream",
     "text": [
      "C:\\Users\\mkhosla\\Anaconda3\\lib\\site-packages\\sklearn\\utils\\deprecation.py:87: FutureWarning: Function plot_roc_curve is deprecated; Function :func:`plot_roc_curve` is deprecated in 1.0 and will be removed in 1.2. Use one of the class methods: :meth:`sklearn.metric.RocCurveDisplay.from_predictions` or :meth:`sklearn.metric.RocCurveDisplay.from_estimator`.\n",
      "  warnings.warn(msg, category=FutureWarning)\n"
     ]
    },
    {
     "data": {
      "text/plain": [
       "<sklearn.metrics._plot.roc_curve.RocCurveDisplay at 0x234601122e0>"
      ]
     },
     "execution_count": 465,
     "metadata": {},
     "output_type": "execute_result"
    },
    {
     "data": {
      "image/png": "[encoded data removed]",
      "text/plain": [
       "<Figure size 432x288 with 1 Axes>"
      ]
     },
     "metadata": {},
     "output_type": "display_data"
    }
   ],
   "source": [
    "#Estimate the threshold Value\n",
    "\n",
    "fpr, tpr, threshold = roc_curve(y, m_lgr.predict_proba(X)[:,1]);\n",
    "plot_roc_curve(m_lgr, X, y)\n",
    "\n",
    "#plotting = RocCurveDisplay(fpr,tpr)\n",
    "#plotting.plot()"
   ]
  },
  {
   "cell_type": "code",
   "execution_count": 466,
   "id": "8dc2997e",
   "metadata": {},
   "outputs": [
    {
     "name": "stdout",
     "output_type": "stream",
     "text": [
      "\n",
      "      fpr=[0.         0.00182149 0.00182149 0.00182149 0.00182149 0.00182149\n",
      " 0.00182149 0.00182149 0.00182149 0.00182149 0.00182149 0.00364299\n",
      " 0.00364299 0.00364299 0.00364299 0.00364299 0.00364299 0.00364299\n",
      " 0.00546448 0.00546448 0.00728597 0.00728597 0.00728597 0.00910747\n",
      " 0.00910747 0.00910747 0.00910747 0.00910747 0.00910747 0.00910747\n",
      " 0.01092896 0.01092896 0.01092896 0.01275046 0.01275046 0.01275046\n",
      " 0.01275046 0.01457195 0.01457195 0.01639344 0.01639344 0.01821494\n",
      " 0.01821494 0.02003643 0.02003643 0.02185792 0.02185792 0.02367942\n",
      " 0.02367942 0.02550091 0.02550091 0.0273224  0.0273224  0.0291439\n",
      " 0.0291439  0.0291439  0.0291439  0.03278689 0.03278689 0.03460838\n",
      " 0.03642987 0.03642987 0.03642987 0.04371585 0.04371585 0.04553734\n",
      " 0.04553734 0.04735883 0.04735883 0.04918033 0.05100182 0.05100182\n",
      " 0.05282332 0.05282332 0.0564663  0.0564663  0.0582878  0.0582878\n",
      " 0.06193078 0.06193078 0.06375228 0.06375228 0.06739526 0.06739526\n",
      " 0.07285974 0.07832423 0.08014572 0.08014572 0.08378871 0.09289617\n",
      " 0.09471767 0.09653916 0.09653916 0.10018215 0.10018215 0.10928962\n",
      " 0.10928962 0.1147541  0.1147541  0.11657559 0.11657559 0.11657559\n",
      " 0.11839709 0.12021858 0.12021858 0.12386157 0.14571949 0.14754098\n",
      " 0.14754098 0.15118397 0.15118397 0.16211293 0.16211293 0.16393443\n",
      " 0.16393443 0.1712204  0.1712204  0.1712204  0.1712204  0.1712204\n",
      " 0.17304189 0.17304189 0.17486339 0.17668488 0.17668488 0.17668488\n",
      " 0.17668488 0.17850638 0.17850638 0.17850638 0.18397086 0.18579235\n",
      " 0.19125683 0.19125683 0.2003643  0.2003643  0.20400729 0.20582878\n",
      " 0.20582878 0.21129326 0.21311475 0.21311475 0.21493625 0.22222222\n",
      " 0.2276867  0.2295082  0.2295082  0.23132969 0.23497268 0.23861566\n",
      " 0.24590164 0.24954463 0.24954463 0.25136612 0.25318761 0.26047359\n",
      " 0.26047359 0.26411658 0.26411658 0.26775956 0.26775956 0.26958106\n",
      " 0.27504554 0.27504554 0.28779599 0.29326047 0.29872495 0.30418944\n",
      " 0.30965392 0.30965392 0.32240437 0.32422587 0.32422587 0.33151184\n",
      " 0.33333333 0.33515483 0.34608379 0.34608379 0.35519126 0.35883424\n",
      " 0.36247723 0.36429872 0.3715847  0.37340619 0.37340619 0.37704918\n",
      " 0.37887067 0.37887067 0.38251366 0.38251366 0.38615665 0.38615665\n",
      " 0.39162113 0.39708561 0.39708561 0.4007286  0.40619308 0.40619308\n",
      " 0.40983607 0.41712204 0.41712204 0.41894353 0.42622951 0.428051\n",
      " 0.43169399 0.43897996 0.44262295 0.46083789 0.46630237 0.4845173\n",
      " 0.48816029 0.50819672 0.51001821 0.51001821 0.53005464 0.53187614\n",
      " 0.53187614 0.53734062 0.55191257 0.56466302 0.56830601 0.59380692\n",
      " 0.59562842 0.60473588 0.60655738 0.61748634 0.62112933 0.63023679\n",
      " 0.63023679 0.63570128 0.63752277 0.63752277 0.64116576 0.6575592\n",
      " 0.66120219 0.66302368 0.73952641 0.74863388 0.75774135 0.76320583\n",
      " 0.76502732 0.76684882 0.76684882 0.76867031 0.77595628 0.77595628\n",
      " 0.77959927 0.78142077 0.78870674 0.79417122 0.8287796  0.83424408\n",
      " 0.83788707 0.84517304 0.84699454 0.84699454 0.85428051 0.85974499\n",
      " 0.86703097 0.87613843 0.88160291 0.8870674  0.89071038 0.90710383\n",
      " 0.9143898  0.91985428 0.92531876 0.93078324 0.93442623 0.93989071\n",
      " 0.9435337  0.94899818 0.95081967 0.95264117 0.95628415 0.96357013\n",
      " 0.96357013 0.9708561  0.97632058 0.99271403 1.        ] \n",
      " \n",
      "      \n",
      "      tpr=[0.         0.         0.02058824 0.03235294 0.05882353 0.06470588\n",
      " 0.07352941 0.09411765 0.1        0.11176471 0.12058824 0.12058824\n",
      " 0.14705882 0.15588235 0.19117647 0.19705882 0.20882353 0.24117647\n",
      " 0.24117647 0.27058824 0.27352941 0.30882353 0.31764706 0.32058824\n",
      " 0.32647059 0.33235294 0.33823529 0.36470588 0.37058824 0.37647059\n",
      " 0.37647059 0.38235294 0.38823529 0.38823529 0.40882353 0.42647059\n",
      " 0.42941176 0.42941176 0.43235294 0.43235294 0.43823529 0.43823529\n",
      " 0.44411765 0.44411765 0.45       0.45       0.45588235 0.45588235\n",
      " 0.47352941 0.47647059 0.48235294 0.48823529 0.50294118 0.50294118\n",
      " 0.50588235 0.51176471 0.51470588 0.52352941 0.52647059 0.52647059\n",
      " 0.52941176 0.53529412 0.54117647 0.54117647 0.54705882 0.54705882\n",
      " 0.55       0.55       0.55294118 0.55882353 0.55882353 0.56176471\n",
      " 0.56176471 0.56764706 0.56764706 0.57352941 0.57352941 0.58235294\n",
      " 0.58235294 0.58823529 0.58823529 0.59117647 0.59117647 0.6\n",
      " 0.6        0.6        0.60294118 0.60588235 0.60588235 0.60882353\n",
      " 0.61176471 0.61176471 0.61470588 0.61470588 0.61764706 0.61764706\n",
      " 0.62058824 0.66176471 0.66764706 0.66764706 0.67058824 0.67647059\n",
      " 0.68235294 0.68235294 0.68529412 0.68529412 0.69705882 0.69705882\n",
      " 0.70294118 0.70294118 0.70882353 0.70882353 0.71176471 0.71176471\n",
      " 0.71470588 0.71470588 0.71764706 0.72352941 0.72647059 0.73823529\n",
      " 0.73823529 0.74117647 0.74411765 0.74411765 0.74705882 0.75294118\n",
      " 0.75588235 0.75588235 0.75882353 0.76470588 0.76470588 0.76764706\n",
      " 0.76764706 0.77352941 0.77352941 0.78529412 0.78529412 0.78529412\n",
      " 0.78823529 0.78823529 0.78823529 0.79117647 0.79117647 0.79117647\n",
      " 0.79411765 0.79411765 0.79705882 0.79705882 0.8        0.8\n",
      " 0.8        0.8        0.80882353 0.80882353 0.81176471 0.81176471\n",
      " 0.81470588 0.81470588 0.81764706 0.82352941 0.82941176 0.82941176\n",
      " 0.82941176 0.83235294 0.83235294 0.83235294 0.83235294 0.83235294\n",
      " 0.83235294 0.83529412 0.83823529 0.83823529 0.84117647 0.84117647\n",
      " 0.84117647 0.84411765 0.84411765 0.84705882 0.84705882 0.85\n",
      " 0.85       0.85       0.85       0.85       0.85588235 0.85588235\n",
      " 0.85588235 0.85882353 0.85882353 0.86176471 0.86176471 0.86764706\n",
      " 0.86764706 0.86764706 0.87058824 0.87058824 0.87058824 0.87352941\n",
      " 0.87941176 0.88235294 0.88529412 0.88529412 0.88529412 0.88823529\n",
      " 0.88823529 0.89117647 0.89117647 0.89411765 0.89411765 0.89411765\n",
      " 0.89411765 0.89705882 0.89705882 0.9        0.9        0.9\n",
      " 0.90294118 0.90294118 0.90294118 0.90588235 0.90588235 0.91176471\n",
      " 0.91176471 0.91470588 0.91470588 0.91470588 0.91470588 0.91764706\n",
      " 0.92058824 0.92058824 0.92941176 0.93235294 0.93235294 0.93235294\n",
      " 0.93235294 0.93235294 0.94705882 0.94705882 0.95       0.95\n",
      " 0.95294118 0.95294118 0.95882353 0.95882353 0.97352941 0.97647059\n",
      " 0.97941176 0.97941176 0.97941176 0.97941176 0.98529412 0.98529412\n",
      " 0.98529412 0.98529412 0.98529412 0.98823529 0.98823529 0.98823529\n",
      " 0.98823529 0.98823529 0.98823529 0.98823529 0.99117647 0.99117647\n",
      " 0.99117647 0.99117647 0.99117647 0.99117647 0.99117647 0.99117647\n",
      " 0.99411765 0.99411765 0.99705882 0.99705882 0.99705882 0.99705882\n",
      " 1.         1.         1.         1.         1.        ] \n",
      " \n",
      "      \n",
      "      thresholds=[1.97 0.97 0.96 0.96 0.95 0.95 0.95 0.94 0.93 0.93 0.93 0.93 0.92 0.92\n",
      " 0.9  0.9  0.89 0.88 0.88 0.85 0.85 0.83 0.83 0.82 0.82 0.82 0.82 0.81\n",
      " 0.8  0.8  0.8  0.79 0.79 0.79 0.78 0.77 0.77 0.77 0.76 0.76 0.76 0.76\n",
      " 0.75 0.75 0.74 0.74 0.74 0.74 0.72 0.72 0.71 0.7  0.69 0.69 0.68 0.68\n",
      " 0.68 0.67 0.66 0.66 0.66 0.66 0.65 0.65 0.64 0.64 0.64 0.64 0.64 0.64\n",
      " 0.64 0.64 0.64 0.63 0.63 0.63 0.63 0.62 0.62 0.61 0.61 0.61 0.61 0.6\n",
      " 0.6  0.59 0.59 0.58 0.58 0.58 0.58 0.58 0.57 0.57 0.57 0.55 0.55 0.55\n",
      " 0.54 0.54 0.54 0.54 0.54 0.54 0.53 0.53 0.53 0.53 0.52 0.52 0.51 0.5\n",
      " 0.5  0.5  0.5  0.47 0.47 0.47 0.47 0.47 0.46 0.46 0.46 0.46 0.45 0.45\n",
      " 0.45 0.45 0.45 0.44 0.43 0.43 0.42 0.41 0.4  0.39 0.38 0.38 0.37 0.37\n",
      " 0.37 0.36 0.36 0.36 0.36 0.36 0.36 0.35 0.35 0.34 0.34 0.33 0.32 0.32\n",
      " 0.32 0.31 0.31 0.3  0.3  0.3  0.3  0.3  0.29 0.29 0.28 0.28 0.27 0.27\n",
      " 0.27 0.27 0.26 0.26 0.26 0.25 0.25 0.24 0.23 0.23 0.22 0.22 0.22 0.22\n",
      " 0.21 0.21 0.21 0.21 0.21 0.21 0.2  0.2  0.2  0.19 0.19 0.19 0.18 0.18\n",
      " 0.17 0.17 0.17 0.16 0.16 0.16 0.16 0.15 0.15 0.15 0.15 0.15 0.14 0.14\n",
      " 0.14 0.14 0.13 0.13 0.13 0.13 0.13 0.13 0.12 0.12 0.12 0.12 0.12 0.12\n",
      " 0.12 0.11 0.11 0.11 0.11 0.11 0.11 0.11 0.11 0.1  0.1  0.1  0.1  0.1\n",
      " 0.1  0.09 0.09 0.09 0.09 0.09 0.09 0.09 0.09 0.09 0.09 0.08 0.08 0.08\n",
      " 0.08 0.08 0.08 0.08 0.08 0.08 0.08 0.07 0.07 0.07 0.07 0.06 0.06 0.06\n",
      " 0.06 0.06 0.06 0.06 0.05 0.05 0.05 0.05 0.05 0.05 0.05 0.04 0.04 0.02\n",
      " 0.01]\n"
     ]
    }
   ],
   "source": [
    "print(f\"\"\"\n",
    "      fpr={fpr} \\n \n",
    "      \n",
    "      tpr={tpr} \\n \n",
    "      \n",
    "      thresholds={np.round(threshold, 2)}\"\"\")"
   ]
  },
  {
   "cell_type": "code",
   "execution_count": 467,
   "id": "c55084a1",
   "metadata": {},
   "outputs": [
    {
     "name": "stdout",
     "output_type": "stream",
     "text": [
      "0.4392809463902609 0.1785063752276867 0.7647058823529411\n"
     ]
    }
   ],
   "source": [
    "#Calculate the Threshold Value\n",
    "np.max(tpr - fpr), np.argmax(tpr - fpr)\n",
    "max_index = np.argmax(tpr - fpr)\n",
    "max_index\n",
    "print(threshold[max_index], fpr[max_index], tpr[max_index])"
   ]
  },
  {
   "cell_type": "code",
   "execution_count": 468,
   "id": "24c80236",
   "metadata": {},
   "outputs": [
    {
     "name": "stdout",
     "output_type": "stream",
     "text": [
      "Area under the curve =  0.8538090646094504\n"
     ]
    }
   ],
   "source": [
    "#Area Under the Curve\n",
    "auc_score = auc(fpr, tpr)\n",
    "print(\"Area under the curve = \",auc_score)\n"
   ]
  },
  {
   "cell_type": "markdown",
   "id": "a80574bc",
   "metadata": {},
   "source": [
    "# Decision Trees"
   ]
  },
  {
   "cell_type": "code",
   "execution_count": 469,
   "id": "2152c4c1",
   "metadata": {},
   "outputs": [
    {
     "name": "stdout",
     "output_type": "stream",
     "text": [
      " 0.793\n"
     ]
    },
    {
     "name": "stderr",
     "output_type": "stream",
     "text": [
      "C:\\Users\\mkhosla\\Anaconda3\\lib\\site-packages\\sklearn\\utils\\deprecation.py:87: FutureWarning: Function plot_roc_curve is deprecated; Function :func:`plot_roc_curve` is deprecated in 1.0 and will be removed in 1.2. Use one of the class methods: :meth:`sklearn.metric.RocCurveDisplay.from_predictions` or :meth:`sklearn.metric.RocCurveDisplay.from_estimator`.\n",
      "  warnings.warn(msg, category=FutureWarning)\n"
     ]
    },
    {
     "data": {
      "text/plain": [
       "3"
      ]
     },
     "execution_count": 469,
     "metadata": {},
     "output_type": "execute_result"
    },
    {
     "data": {
      "image/png": "[encoded data removed]",
      "text/plain": [
       "<Figure size 432x288 with 1 Axes>"
      ]
     },
     "metadata": {},
     "output_type": "display_data"
    }
   ],
   "source": [
    "#Build a Decision Tree Classifier Model\n",
    "m_tree = DecisionTreeClassifier(max_depth=2)  # we allow that many questions => hyperparameter\n",
    "m_tree.fit(Xtrain, ytrain)\n",
    "\n",
    "#Calculate the Predicted Values\n",
    "ypred = m_tree.predict(X)\n",
    "\n",
    "#Calculate the Accuracy\n",
    "sum(y == ypred)/len(y)\n",
    "print(f' {round(accuracy_score(ypred, y), 3)}')\n",
    "\n",
    "m_tree_score = np.round(accuracy_score(ypred, y), 3)\n",
    "#plt.figure(figsize=(12, 8))\n",
    "#t = plot_tree(m_tree, feature_names=['Pclass', 'Age'], class_names=['0','1'])\n",
    "\n",
    "\n",
    "#Estimate the threshold Value\n",
    "\n",
    "fpr_tree, tpr_tree, threshold = roc_curve(y, m_tree.predict_proba(X)[:,1]);\n",
    "plot_roc_curve(m_tree, X, y)\n",
    "\n",
    "#Calculate the Threshold Value\n",
    "np.max(tpr_tree - fpr_tree), np.argmax(tpr_tree - fpr_tree)\n",
    "max_index_tree = np.argmax(tpr_tree - fpr_tree)\n",
    "max_index_tree\n",
    "#print(f'threshold[max_index_tree], fpr_tree[max_index_tree], tpr_tree[max_index_tree])"
   ]
  },
  {
   "cell_type": "markdown",
   "id": "7bb76176",
   "metadata": {},
   "source": [
    "# Random Forest Classifier"
   ]
  },
  {
   "cell_type": "code",
   "execution_count": 470,
   "id": "b74589ad",
   "metadata": {},
   "outputs": [
    {
     "name": "stdout",
     "output_type": "stream",
     "text": [
      "0.798\n"
     ]
    }
   ],
   "source": [
    "#Build a Random Forest Classifier Model\n",
    "m_ran = RandomForestClassifier(max_depth=2, n_estimators=100)  # n_estimators is the number of decision trees\n",
    "\n",
    "m_ran.fit(Xtrain, ytrain)\n",
    "\n",
    "# Let's see whether it predicts as it was intended to learn\n",
    "ypred = m_ran.predict(X) # prediction on seen data\n",
    "m_ran_score = np.round(accuracy_score(ypred, y), 3)\n",
    "print(f'{round(accuracy_score(ypred, y), 3)}')"
   ]
  },
  {
   "cell_type": "code",
   "execution_count": 471,
   "id": "74f3af92",
   "metadata": {},
   "outputs": [
    {
     "data": {
      "text/html": [
       "<div>\n",
       "<style scoped>\n",
       "    .dataframe tbody tr th:only-of-type {\n",
       "        vertical-align: middle;\n",
       "    }\n",
       "\n",
       "    .dataframe tbody tr th {\n",
       "        vertical-align: top;\n",
       "    }\n",
       "\n",
       "    .dataframe thead th {\n",
       "        text-align: right;\n",
       "    }\n",
       "</style>\n",
       "<table border=\"1\" class=\"dataframe\">\n",
       "  <thead>\n",
       "    <tr style=\"text-align: right;\">\n",
       "      <th></th>\n",
       "      <th>Survived</th>\n",
       "      <th>Pclass</th>\n",
       "      <th>Sex</th>\n",
       "      <th>Age</th>\n",
       "      <th>SibSp</th>\n",
       "      <th>Parch</th>\n",
       "      <th>Embarked</th>\n",
       "    </tr>\n",
       "  </thead>\n",
       "  <tbody>\n",
       "    <tr>\n",
       "      <th>0</th>\n",
       "      <td>0</td>\n",
       "      <td>3</td>\n",
       "      <td>0</td>\n",
       "      <td>22</td>\n",
       "      <td>1</td>\n",
       "      <td>0</td>\n",
       "      <td>1</td>\n",
       "    </tr>\n",
       "    <tr>\n",
       "      <th>1</th>\n",
       "      <td>1</td>\n",
       "      <td>1</td>\n",
       "      <td>1</td>\n",
       "      <td>38</td>\n",
       "      <td>1</td>\n",
       "      <td>0</td>\n",
       "      <td>0</td>\n",
       "    </tr>\n",
       "    <tr>\n",
       "      <th>2</th>\n",
       "      <td>1</td>\n",
       "      <td>3</td>\n",
       "      <td>1</td>\n",
       "      <td>26</td>\n",
       "      <td>0</td>\n",
       "      <td>0</td>\n",
       "      <td>1</td>\n",
       "    </tr>\n",
       "    <tr>\n",
       "      <th>3</th>\n",
       "      <td>1</td>\n",
       "      <td>1</td>\n",
       "      <td>1</td>\n",
       "      <td>35</td>\n",
       "      <td>1</td>\n",
       "      <td>0</td>\n",
       "      <td>1</td>\n",
       "    </tr>\n",
       "    <tr>\n",
       "      <th>4</th>\n",
       "      <td>0</td>\n",
       "      <td>3</td>\n",
       "      <td>0</td>\n",
       "      <td>35</td>\n",
       "      <td>0</td>\n",
       "      <td>0</td>\n",
       "      <td>1</td>\n",
       "    </tr>\n",
       "  </tbody>\n",
       "</table>\n",
       "</div>"
      ],
      "text/plain": [
       "   Survived  Pclass  Sex  Age  SibSp  Parch  Embarked\n",
       "0         0       3    0   22      1      0         1\n",
       "1         1       1    1   38      1      0         0\n",
       "2         1       3    1   26      0      0         1\n",
       "3         1       1    1   35      1      0         1\n",
       "4         0       3    0   35      0      0         1"
      ]
     },
     "execution_count": 471,
     "metadata": {},
     "output_type": "execute_result"
    }
   ],
   "source": [
    "df.head()"
   ]
  },
  {
   "cell_type": "code",
   "execution_count": 472,
   "id": "d89ece5a",
   "metadata": {},
   "outputs": [
    {
     "data": {
      "text/html": [
       "<div>\n",
       "<style scoped>\n",
       "    .dataframe tbody tr th:only-of-type {\n",
       "        vertical-align: middle;\n",
       "    }\n",
       "\n",
       "    .dataframe tbody tr th {\n",
       "        vertical-align: top;\n",
       "    }\n",
       "\n",
       "    .dataframe thead th {\n",
       "        text-align: right;\n",
       "    }\n",
       "</style>\n",
       "<table border=\"1\" class=\"dataframe\">\n",
       "  <thead>\n",
       "    <tr style=\"text-align: right;\">\n",
       "      <th></th>\n",
       "      <th>Pclass</th>\n",
       "      <th>Sex</th>\n",
       "      <th>Embarked</th>\n",
       "      <th>Age</th>\n",
       "      <th>SibSp</th>\n",
       "      <th>Parch</th>\n",
       "    </tr>\n",
       "  </thead>\n",
       "  <tbody>\n",
       "    <tr>\n",
       "      <th>759</th>\n",
       "      <td>1</td>\n",
       "      <td>1</td>\n",
       "      <td>1</td>\n",
       "      <td>33</td>\n",
       "      <td>0</td>\n",
       "      <td>0</td>\n",
       "    </tr>\n",
       "    <tr>\n",
       "      <th>161</th>\n",
       "      <td>2</td>\n",
       "      <td>1</td>\n",
       "      <td>1</td>\n",
       "      <td>40</td>\n",
       "      <td>0</td>\n",
       "      <td>0</td>\n",
       "    </tr>\n",
       "    <tr>\n",
       "      <th>556</th>\n",
       "      <td>1</td>\n",
       "      <td>1</td>\n",
       "      <td>0</td>\n",
       "      <td>48</td>\n",
       "      <td>1</td>\n",
       "      <td>0</td>\n",
       "    </tr>\n",
       "    <tr>\n",
       "      <th>651</th>\n",
       "      <td>2</td>\n",
       "      <td>1</td>\n",
       "      <td>1</td>\n",
       "      <td>18</td>\n",
       "      <td>0</td>\n",
       "      <td>1</td>\n",
       "    </tr>\n",
       "    <tr>\n",
       "      <th>488</th>\n",
       "      <td>3</td>\n",
       "      <td>0</td>\n",
       "      <td>1</td>\n",
       "      <td>30</td>\n",
       "      <td>0</td>\n",
       "      <td>0</td>\n",
       "    </tr>\n",
       "  </tbody>\n",
       "</table>\n",
       "</div>"
      ],
      "text/plain": [
       "     Pclass  Sex  Embarked  Age  SibSp  Parch\n",
       "759       1    1         1   33      0      0\n",
       "161       2    1         1   40      0      0\n",
       "556       1    1         0   48      1      0\n",
       "651       2    1         1   18      0      1\n",
       "488       3    0         1   30      0      0"
      ]
     },
     "execution_count": 472,
     "metadata": {},
     "output_type": "execute_result"
    }
   ],
   "source": [
    "Xtrain.head()"
   ]
  },
  {
   "cell_type": "code",
   "execution_count": 473,
   "id": "fc7b28ce",
   "metadata": {},
   "outputs": [
    {
     "data": {
      "text/plain": [
       "759    1\n",
       "161    1\n",
       "556    1\n",
       "651    1\n",
       "488    0\n",
       "      ..\n",
       "857    1\n",
       "873    0\n",
       "837    0\n",
       "793    0\n",
       "521    0\n",
       "Name: Survived, Length: 666, dtype: int64"
      ]
     },
     "execution_count": 473,
     "metadata": {},
     "output_type": "execute_result"
    }
   ],
   "source": [
    "ytrain"
   ]
  },
  {
   "cell_type": "code",
   "execution_count": 474,
   "id": "42112177",
   "metadata": {},
   "outputs": [
    {
     "data": {
      "text/html": [
       "<div>\n",
       "<style scoped>\n",
       "    .dataframe tbody tr th:only-of-type {\n",
       "        vertical-align: middle;\n",
       "    }\n",
       "\n",
       "    .dataframe tbody tr th {\n",
       "        vertical-align: top;\n",
       "    }\n",
       "\n",
       "    .dataframe thead th {\n",
       "        text-align: right;\n",
       "    }\n",
       "</style>\n",
       "<table border=\"1\" class=\"dataframe\">\n",
       "  <thead>\n",
       "    <tr style=\"text-align: right;\">\n",
       "      <th></th>\n",
       "      <th>Survived</th>\n",
       "      <th>Pclass</th>\n",
       "      <th>Sex</th>\n",
       "      <th>Age</th>\n",
       "      <th>SibSp</th>\n",
       "      <th>Parch</th>\n",
       "      <th>Embarked</th>\n",
       "    </tr>\n",
       "  </thead>\n",
       "  <tbody>\n",
       "    <tr>\n",
       "      <th>0</th>\n",
       "      <td>0</td>\n",
       "      <td>3</td>\n",
       "      <td>0</td>\n",
       "      <td>22</td>\n",
       "      <td>1</td>\n",
       "      <td>0</td>\n",
       "      <td>1</td>\n",
       "    </tr>\n",
       "    <tr>\n",
       "      <th>1</th>\n",
       "      <td>1</td>\n",
       "      <td>1</td>\n",
       "      <td>1</td>\n",
       "      <td>38</td>\n",
       "      <td>1</td>\n",
       "      <td>0</td>\n",
       "      <td>0</td>\n",
       "    </tr>\n",
       "    <tr>\n",
       "      <th>2</th>\n",
       "      <td>1</td>\n",
       "      <td>3</td>\n",
       "      <td>1</td>\n",
       "      <td>26</td>\n",
       "      <td>0</td>\n",
       "      <td>0</td>\n",
       "      <td>1</td>\n",
       "    </tr>\n",
       "    <tr>\n",
       "      <th>3</th>\n",
       "      <td>1</td>\n",
       "      <td>1</td>\n",
       "      <td>1</td>\n",
       "      <td>35</td>\n",
       "      <td>1</td>\n",
       "      <td>0</td>\n",
       "      <td>1</td>\n",
       "    </tr>\n",
       "    <tr>\n",
       "      <th>4</th>\n",
       "      <td>0</td>\n",
       "      <td>3</td>\n",
       "      <td>0</td>\n",
       "      <td>35</td>\n",
       "      <td>0</td>\n",
       "      <td>0</td>\n",
       "      <td>1</td>\n",
       "    </tr>\n",
       "  </tbody>\n",
       "</table>\n",
       "</div>"
      ],
      "text/plain": [
       "   Survived  Pclass  Sex  Age  SibSp  Parch  Embarked\n",
       "0         0       3    0   22      1      0         1\n",
       "1         1       1    1   38      1      0         0\n",
       "2         1       3    1   26      0      0         1\n",
       "3         1       1    1   35      1      0         1\n",
       "4         0       3    0   35      0      0         1"
      ]
     },
     "execution_count": 474,
     "metadata": {},
     "output_type": "execute_result"
    }
   ],
   "source": [
    "df.head()"
   ]
  },
  {
   "cell_type": "code",
   "execution_count": 475,
   "id": "bdeddd72",
   "metadata": {},
   "outputs": [
    {
     "data": {
      "text/plain": [
       "((889, 6), (889,))"
      ]
     },
     "execution_count": 475,
     "metadata": {},
     "output_type": "execute_result"
    }
   ],
   "source": [
    "#Define the Dependent and Independent Variables\n",
    "X = df[['Pclass','Sex','Embarked','Age','SibSp','Parch']] #X\n",
    "y = df['Survived'] #y\n",
    "X.shape, y.shape\n"
   ]
  },
  {
   "cell_type": "code",
   "execution_count": 476,
   "id": "3c133048",
   "metadata": {},
   "outputs": [],
   "source": [
    "Xtrain, Xtest, ytrain, ytest = train_test_split(X, y, random_state=100)"
   ]
  },
  {
   "cell_type": "markdown",
   "id": "10c4046e",
   "metadata": {},
   "source": [
    "# Feature Engineering"
   ]
  },
  {
   "cell_type": "code",
   "execution_count": 480,
   "id": "7fe4ac34",
   "metadata": {},
   "outputs": [],
   "source": [
    "from sklearn.impute import SimpleImputer\n",
    "from sklearn.preprocessing import OneHotEncoder\n",
    "from sklearn.compose import ColumnTransformer\n",
    "from sklearn.preprocessing import StandardScaler\n",
    "from sklearn.pipeline import Pipeline\n",
    "my_column_transformer = ColumnTransformer(transformers = [\n",
    "    ('age_scale',    StandardScaler(),            ['Age']),\n",
    "    ('embarked_encode',    OneHotEncoder(drop='first'),            ['Embarked','Pclass','Sex','Parch']),\n",
    "                  ],\n",
    "   remainder = 'passthrough'\n",
    ")"
   ]
  },
  {
   "cell_type": "code",
   "execution_count": 482,
   "id": "9709d092",
   "metadata": {},
   "outputs": [
    {
     "data": {
      "text/plain": [
       "(223, 13)"
      ]
     },
     "execution_count": 482,
     "metadata": {},
     "output_type": "execute_result"
    }
   ],
   "source": [
    "Xtrain_fe = my_column_transformer.fit_transform(Xtrain)\n",
    "Xtrain_fe = pd.DataFrame(Xtrain_fe, columns = my_column_transformer.get_feature_names_out())\n",
    "Xtrain_fe.shape\n",
    "Xtest_fe = my_column_transformer.transform(Xtest)\n",
    "Xtest_fe.shape"
   ]
  },
  {
   "cell_type": "markdown",
   "id": "b39ef766",
   "metadata": {},
   "source": [
    "#### LR model with Feature Engineering"
   ]
  },
  {
   "cell_type": "code",
   "execution_count": 484,
   "id": "ac03c775",
   "metadata": {},
   "outputs": [
    {
     "name": "stdout",
     "output_type": "stream",
     "text": [
      "Training Score: 0.8078078078078078\n",
      " Testing Score: 0.79\n"
     ]
    }
   ],
   "source": [
    "# instantiate the model \n",
    "m_lgr_fe = LogisticRegression() # build the model\n",
    "\n",
    "# fit the model\n",
    "m_lgr_fe.fit(Xtrain_fe,ytrain)\n",
    "\n",
    "\n",
    "#Calculate the Accuracy Score\n",
    "m_lgr_fe_score = m_lgr_fe.score(Xtrain_fe,ytrain)\n",
    "print(f'Training Score: {m_lgr_fe.score(Xtrain_fe,ytrain)}\\n Testing Score: {round(m_lgr_fe.score(Xtest_fe,ytest),2)}')\n",
    "\n",
    "\n",
    "#Predict the Values of y using the Fitted model\n",
    "#ypred = m_lgr_fe.predict(Xtrain_fe)\n",
    "#m_lgr_precision_score = np.round(precision_score(y, ypred),2)\n",
    "#m_lgr_recall_score = round(recall_score(y,ypred),2)\n",
    "#m_lgr_f1score = round(f1_score(y,ypred),2)\n",
    "#print(f'Precision: {m_lgr_precision_score}\\n Recall: {m_lgr_recall_score}')\n",
    "#print(f'F1 Score: {m_lgr_f1score}')"
   ]
  },
  {
   "cell_type": "code",
   "execution_count": 485,
   "id": "6caabd48",
   "metadata": {},
   "outputs": [
    {
     "data": {
      "text/html": [
       "<div>\n",
       "<style scoped>\n",
       "    .dataframe tbody tr th:only-of-type {\n",
       "        vertical-align: middle;\n",
       "    }\n",
       "\n",
       "    .dataframe tbody tr th {\n",
       "        vertical-align: top;\n",
       "    }\n",
       "\n",
       "    .dataframe thead th {\n",
       "        text-align: right;\n",
       "    }\n",
       "</style>\n",
       "<table border=\"1\" class=\"dataframe\">\n",
       "  <thead>\n",
       "    <tr style=\"text-align: right;\">\n",
       "      <th></th>\n",
       "      <th>Model</th>\n",
       "      <th>Accuracy</th>\n",
       "      <th>Precision</th>\n",
       "      <th>Recall</th>\n",
       "      <th>F1 Score</th>\n",
       "    </tr>\n",
       "  </thead>\n",
       "  <tbody>\n",
       "    <tr>\n",
       "      <th>0</th>\n",
       "      <td>Logistic Regression Model 1 w/o FE</td>\n",
       "      <td>0.791291</td>\n",
       "      <td>0.73</td>\n",
       "      <td>0.71</td>\n",
       "      <td>0.72</td>\n",
       "    </tr>\n",
       "    <tr>\n",
       "      <th>1</th>\n",
       "      <td>Logistic Regression Model 2 w/o FE</td>\n",
       "      <td>0.795796</td>\n",
       "      <td>0.78</td>\n",
       "      <td>0.67</td>\n",
       "      <td>0.72</td>\n",
       "    </tr>\n",
       "    <tr>\n",
       "      <th>2</th>\n",
       "      <td>Logistic Regression with FE</td>\n",
       "      <td>0.807808</td>\n",
       "      <td>NaN</td>\n",
       "      <td>NaN</td>\n",
       "      <td>NaN</td>\n",
       "    </tr>\n",
       "    <tr>\n",
       "      <th>3</th>\n",
       "      <td>Decision Tree Classifier</td>\n",
       "      <td>0.793</td>\n",
       "      <td>NaN</td>\n",
       "      <td>NaN</td>\n",
       "      <td>NaN</td>\n",
       "    </tr>\n",
       "    <tr>\n",
       "      <th>4</th>\n",
       "      <td>Random Forest Classifier</td>\n",
       "      <td>0.798</td>\n",
       "      <td>NaN</td>\n",
       "      <td>NaN</td>\n",
       "      <td>NaN</td>\n",
       "    </tr>\n",
       "  </tbody>\n",
       "</table>\n",
       "</div>"
      ],
      "text/plain": [
       "                                Model  Accuracy Precision Recall F1 Score\n",
       "0  Logistic Regression Model 1 w/o FE  0.791291      0.73   0.71     0.72\n",
       "1  Logistic Regression Model 2 w/o FE  0.795796      0.78   0.67     0.72\n",
       "2         Logistic Regression with FE  0.807808       NaN    NaN      NaN\n",
       "3            Decision Tree Classifier     0.793       NaN    NaN      NaN\n",
       "4            Random Forest Classifier     0.798       NaN    NaN      NaN"
      ]
     },
     "execution_count": 485,
     "metadata": {},
     "output_type": "execute_result"
    }
   ],
   "source": [
    "df_results = pd.DataFrame( columns=['Model', 'Accuracy','Precision','Recall','F1 Score'], index = [0])\n",
    "\n",
    "df_results.iloc[0,0] = 'Logistic Regression Model 1 w/o FE'\n",
    "df_results.loc[1,'Model'] = 'Logistic Regression Model 2 w/o FE'\n",
    "df_results.loc[2,'Model'] = 'Logistic Regression with FE'\n",
    "df_results.loc[3,'Model'] = 'Decision Tree Classifier'\n",
    "df_results.loc[4,'Model'] = 'Random Forest Classifier'\n",
    "df_results.iloc[0,1] = m_lgr_score\n",
    "df_results.iloc[0,2] = m_lgr_precision \n",
    "df_results.iloc[0,3] = m_lgr_recall\n",
    "df_results.iloc[0,4] = m_lgr_f1score\n",
    "\n",
    "df_results.iloc[1,1] = m_lgr1_score\n",
    "df_results.iloc[1,2] = m_lgr1_precision \n",
    "df_results.iloc[1,3] = m_lgr1_recall\n",
    "df_results.iloc[1,4] = m_lgr1_f1score\n",
    "\n",
    "df_results.iloc[2,1] = m_lgr_fe_score\n",
    "df_results.iloc[3,1] = m_tree_score\n",
    "df_results.iloc[4,1] = m_ran_score\n",
    "df_results.head()"
   ]
  },
  {
   "cell_type": "code",
   "execution_count": null,
   "id": "a1901cfa",
   "metadata": {},
   "outputs": [],
   "source": []
  }
 ],
 "metadata": {
  "kernelspec": {
   "display_name": "Python 3 (ipykernel)",
   "language": "python",
   "name": "python3"
  },
  "language_info": {
   "codemirror_mode": {
    "name": "ipython",
    "version": 3
   },
   "file_extension": ".py",
   "mimetype": "text/x-python",
   "name": "python",
   "nbconvert_exporter": "python",
   "pygments_lexer": "ipython3",
   "version": "3.9.12"
  }
 },
 "nbformat": 4,
 "nbformat_minor": 5
}
