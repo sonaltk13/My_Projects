{
 "cells": [
  {
   "cell_type": "markdown",
   "id": "7c2e13c6",
   "metadata": {},
   "source": [
    "#### The Objective of this Project is to scrape a Corpus of songs for few singers and store them locally. Later the songs are read and a Prediction model has been built on it. "
   ]
  },
  {
   "cell_type": "markdown",
   "id": "70205065",
   "metadata": {},
   "source": [
    "# Building the Raw Corpus"
   ]
  },
  {
   "cell_type": "code",
   "execution_count": 1,
   "id": "0b721c64",
   "metadata": {},
   "outputs": [],
   "source": [
    "import requests\n",
    "import requests\n",
    "from urllib3.exceptions import InsecureRequestWarning\n",
    "from urllib3 import disable_warnings\n",
    "import re\n",
    "disable_warnings(InsecureRequestWarning)"
   ]
  },
  {
   "cell_type": "code",
   "execution_count": null,
   "id": "28396a7f",
   "metadata": {},
   "outputs": [
    {
     "name": "stdout",
     "output_type": "stream",
     "text": [
      "Madonna - Music Lyrics | Lyrics.com\n",
      "Madonna - Frozen Lyrics | Lyrics.com\n",
      "Madonna - Back That Up to the Beat - demo [Demo] Lyrics | Lyrics.com\n",
      "Madonna - Back That Up to the Beat - sped up [Sped Up] Lyrics | Lyrics.com\n",
      "Bryan Adams - One Night Love Affair Lyrics | Lyrics.com\n",
      "Bryan Adams - She's Only Happy When She's Dancing Lyrics | Lyrics.com\n",
      "Bryan Adams - Run To You Lyrics | Lyrics.com\n",
      "Bryan Adams - Heaven Lyrics | Lyrics.com\n",
      "Bryan Adams - Somebody Lyrics | Lyrics.com\n",
      "Bryan Adams - Kids Wanna Rock Lyrics | Lyrics.com\n",
      "Bryan Adams - It's Only Love Lyrics | Lyrics.com\n",
      "Bryan Adams - Long Gone Lyrics | Lyrics.com\n",
      "Bryan Adams - Ain't Gonna Cry Lyrics | Lyrics.com\n",
      "Jive Bunny & the Mastermixers - Music Lyrics | Lyrics.com\n",
      "Jive Bunny & the Mastermixers - Music [Radyo Versiyonu] Lyrics | Lyrics.com\n",
      "Madonna - Lucky Star Lyrics | Lyrics.com\n",
      "Madonna - Borderline Lyrics | Lyrics.com\n",
      "Madonna - Burning Up Lyrics | Lyrics.com\n",
      "Madonna - I Know It Lyrics | Lyrics.com\n",
      "Madonna - Holiday Lyrics | Lyrics.com\n",
      "Madonna - Think of Me Lyrics | Lyrics.com\n",
      "Madonna - Physical Attraction Lyrics | Lyrics.com\n",
      "Madonna - Everybody [Original Version] Lyrics | Lyrics.com\n",
      "Madonna - Hung Up Lyrics | Lyrics.com\n",
      "Madonna - Hung Up Lyrics | Lyrics.com\n",
      "Madonna - Hung Up [SDP Extended Vocal] Lyrics | Lyrics.com\n",
      "Madonna - Hung Up [Tracy Young's Get Up and Dance Groove Edit] Lyrics | Lyrics.com\n",
      "Madonna - Hung Up Lyrics | Lyrics.com\n",
      "Madonna - Hung Up [SDP Extended Dub][Mix] Lyrics | Lyrics.com\n",
      "Madonna - Sorry Lyrics | Lyrics.com\n",
      "Madonna - Sorry Lyrics | Lyrics.com\n",
      "Madonna - Beautiful Stranger [Calderone Mix] Lyrics | Lyrics.com\n",
      "Madonna - Beautiful Killer Lyrics | Lyrics.com\n",
      "Madonna - Beautiful Killer Lyrics | Lyrics.com\n",
      "Madonna - Don't Cry for Me Argentina [From Evita] Lyrics | Lyrics.com\n",
      "Ricky Martin - Be Careful (Cuidado con Mi Corazón) [Cuidado con Mi Corazon] Lyrics | Lyrics.com\n",
      "Madonna - Look of Love Lyrics | Lyrics.com\n",
      "Madonna - Love Don't Live Here Anymore Lyrics | Lyrics.com\n",
      "Madonna - I Know It Lyrics | Lyrics.com\n",
      "Madonna - Hollywood Lyrics | Lyrics.com\n",
      "Madonna - Nothing Fails [Nevins Mix] Lyrics | Lyrics.com\n",
      "Madonna - Love Profusion Lyrics | Lyrics.com\n",
      "Madonna - Love Profusion Lyrics | Lyrics.com\n",
      "Madonna - Music Lyrics | Lyrics.com\n",
      "Madonna - Impressive Instant Lyrics | Lyrics.com\n",
      "Madonna - Runaway Lover Lyrics | Lyrics.com\n",
      "Madonna - I Deserve It Lyrics | Lyrics.com\n",
      "Madonna - Amazing Lyrics | Lyrics.com\n",
      "Madonna - Nobody's Perfect Lyrics | Lyrics.com\n",
      "Madonna - Don't Tell Me Lyrics | Lyrics.com\n",
      "Madonna - What It Feels Like for a Girl Lyrics | Lyrics.com\n",
      "Madonna - Paradise (Not for Me) Lyrics | Lyrics.com\n",
      "Madonna - Gone Lyrics | Lyrics.com\n",
      "Madonna - American Pie Lyrics | Lyrics.com\n",
      "Madonna - Live to Tell Lyrics | Lyrics.com\n",
      "Madonna - Live to Tell Lyrics | Lyrics.com\n",
      "Madonna - Live to Tell [Instrumental] Lyrics | Lyrics.com\n",
      "Madonna - Me Against the Music Lyrics | Lyrics.com\n",
      "Madonna - Like a Virgin Lyrics | Lyrics.com\n",
      "Madonna - Hung Up [SDP Extended Vocal] Lyrics | Lyrics.com\n",
      "Madonna - Hung Up [SDP Extended Dub][Mix] Lyrics | Lyrics.com\n",
      "Madonna - Get Together Lyrics | Lyrics.com\n",
      "Madonna - Justify My Love Lyrics | Lyrics.com\n",
      "Bryan Adams - Please Forgive Me Lyrics | Lyrics.com\n",
      "Bryan Adams - Please Forgive Me Lyrics | Lyrics.com\n",
      "Joe Henry - Guilty by Association Lyrics | Lyrics.com\n",
      "Bryan Adams - She Knows Me Lyrics | Lyrics.com\n",
      "Bryan Adams - Alberta Bound Lyrics | Lyrics.com\n",
      "Bryan Adams - I Still Miss You...A Little Bit Lyrics | Lyrics.com\n",
      "Bryan Adams - Only The Strong Survive Lyrics | Lyrics.com\n",
      "Bryan Adams - One World One Flame Lyrics | Lyrics.com\n",
      "Bryan Adams - You've Been A Friend To Me Lyrics | Lyrics.com\n",
      "Bryan Adams - She's Got A Way Lyrics | Lyrics.com\n",
      "Bryan Adams - Tonight We Have The Stars Lyrics | Lyrics.com\n",
      "Bryan Adams - I Thought I'd Seen Everything Lyrics | Lyrics.com\n",
      "Melanie C - When You're Gone Lyrics | Lyrics.com\n",
      "Bryan Adams - So Far So Good Lyrics | Lyrics.com\n",
      "Bryan Adams - Have You Ever Really Loved A Woman Lyrics | Lyrics.com\n",
      "Bryan Adams - Why Do You Have To Be So Hard To Love Lyrics | Lyrics.com\n",
      "Bryan Adams - Straight From The Heart Lyrics | Lyrics.com\n",
      "Bryan Adams - Lonely Nights Lyrics | Lyrics.com\n",
      "Bryan Adams - Rock Steady Lyrics | Lyrics.com\n",
      "Bryan Adams - Fits Ya Good Lyrics | Lyrics.com\n",
      "Bryan Adams - The Only Thing That Looks Good On Me Is You Lyrics | Lyrics.com\n",
      "Bryan Adams - Coming Home Lyrics | Lyrics.com\n",
      "Bryan Adams - This Side Of Paradise Lyrics | Lyrics.com\n",
      "Bryan Adams - Room Service Lyrics | Lyrics.com\n",
      "Bryan Adams - Hidin' from Love Lyrics | Lyrics.com\n",
      "Bryan Adams - Let's Make a Night To Remember Lyrics | Lyrics.com\n",
      "Bryan Adams - Flying Lyrics | Lyrics.com\n"
     ]
    }
   ],
   "source": [
    "from bs4 import BeautifulSoup\n",
    "import os\n",
    "corpus = []\n",
    "labels = []\n",
    "i = 0\n",
    "for fn in os.listdir('songs/'):\n",
    "    with open('songs/' + fn, 'r', encoding = 'utf-8') as file:\n",
    "        file_soup = BeautifulSoup(file, \"html.parser\")\n",
    "        result = file_soup.find('pre', class_=\"lyric-body\")\n",
    "        \n",
    "        \n",
    "        if result:\n",
    "            title = file_soup.find('title')\n",
    "            label = str(title.text)\n",
    "            print(title.text)\n",
    "            labels.append(label[:5])\n",
    "            corpus.append(result.text)\n",
    "            i = i + 1\n",
    "        else:\n",
    "            continue\n",
    "print(f' {i} files added to the Corpus')"
   ]
  },
  {
   "cell_type": "code",
   "execution_count": null,
   "id": "55d3ef35",
   "metadata": {},
   "outputs": [],
   "source": [
    "print(title.text)"
   ]
  },
  {
   "cell_type": "code",
   "execution_count": 4,
   "id": "d4b05937",
   "metadata": {},
   "outputs": [
    {
     "name": "stdout",
     "output_type": "stream",
     "text": [
      "2966\n"
     ]
    }
   ],
   "source": [
    "print(len(corpus))"
   ]
  },
  {
   "cell_type": "code",
   "execution_count": null,
   "id": "cd404ecb",
   "metadata": {},
   "outputs": [],
   "source": [
    "print(corpus[100])"
   ]
  },
  {
   "cell_type": "code",
   "execution_count": null,
   "id": "b0279554",
   "metadata": {},
   "outputs": [],
   "source": [
    "print(labels[100])"
   ]
  },
  {
   "cell_type": "code",
   "execution_count": null,
   "id": "73611519",
   "metadata": {},
   "outputs": [],
   "source": [
    "print(len(labels))"
   ]
  },
  {
   "cell_type": "code",
   "execution_count": null,
   "id": "efe8208e",
   "metadata": {},
   "outputs": [],
   "source": [
    "labels_df = pd.DataFrame(data = labels, columns = ['artist'])\n",
    "labels_df.value_counts()"
   ]
  },
  {
   "cell_type": "markdown",
   "id": "9c827659",
   "metadata": {},
   "source": [
    "# Vectorization and Normalizing the Corpus"
   ]
  },
  {
   "cell_type": "code",
   "execution_count": null,
   "id": "f66628cc",
   "metadata": {},
   "outputs": [],
   "source": [
    "import string # useful for among others getting all punctuations!\n",
    "\n",
    "import nltk\n",
    "from nltk.stem import WordNetLemmatizer\n",
    "from nltk.tokenize import TreebankWordDetokenizer\n",
    "\n",
    "from sklearn.feature_extraction import _stop_words as stop_words\n",
    "skl_stopwords = stop_words.ENGLISH_STOP_WORDS"
   ]
  },
  {
   "cell_type": "code",
   "execution_count": null,
   "id": "67d878f2",
   "metadata": {},
   "outputs": [],
   "source": [
    "from sklearn.feature_extraction.text import CountVectorizer, TfidfTransformer\n",
    "lemmatizer = WordNetLemmatizer()\n",
    "tokenizer = TreebankWordDetokenizer()"
   ]
  },
  {
   "cell_type": "code",
   "execution_count": null,
   "id": "b3e5a4e4",
   "metadata": {},
   "outputs": [],
   "source": [
    "def tokenize_lemmatize(text, stopwords=skl_stopwords, tokenizer=tokenizer, lemmatizer=lemmatizer):\n",
    "    text = \"\".join([i for i in text if i not in string.punctuation])\n",
    "    tokens = nltk.word_tokenize(text)\n",
    "    return [lemmatizer.lemmatize(token) for token in tokens if token not in stopwords]"
   ]
  },
  {
   "cell_type": "code",
   "execution_count": null,
   "id": "51b5a6b1",
   "metadata": {},
   "outputs": [],
   "source": [
    "corpus[2788]"
   ]
  },
  {
   "cell_type": "code",
   "execution_count": null,
   "id": "2ecc5727",
   "metadata": {},
   "outputs": [],
   "source": [
    "from sklearn.feature_extraction.text import TfidfTransformer\n",
    "vectorizer = CountVectorizer(tokenizer=tokenize_lemmatize, stop_words=None)\n",
    "X = vectorizer.fit_transform(corpus)\n",
    "X_df = pd.DataFrame(X.todense(), columns=vectorizer.get_feature_names_out(), index=labels)\n",
    "\n",
    "\n",
    "#df_idf.sort_values(by=['idf_weights'])"
   ]
  },
  {
   "cell_type": "code",
   "execution_count": null,
   "id": "67d9ad09",
   "metadata": {},
   "outputs": [],
   "source": [
    "tf = TfidfTransformer()\n",
    "# Use the CountVectorized data\n",
    "x_norm = tf.fit_transform(X_df)\n",
    "X_norm_df=pd.DataFrame(x_norm.todense(), columns=vectorizer.get_feature_names_out(), index=labels)\n",
    "X_norm_df\n",
    "X_norm_df.max()\n",
    "#X_norm_df.columns[100]"
   ]
  },
  {
   "cell_type": "code",
   "execution_count": null,
   "id": "1884c3fb",
   "metadata": {},
   "outputs": [],
   "source": [
    "type(X_norm_df)"
   ]
  },
  {
   "cell_type": "code",
   "execution_count": null,
   "id": "b11e0db4",
   "metadata": {},
   "outputs": [],
   "source": [
    "Xtest"
   ]
  },
  {
   "cell_type": "markdown",
   "id": "316ab4d6",
   "metadata": {},
   "source": [
    "# Train the Model"
   ]
  },
  {
   "cell_type": "code",
   "execution_count": null,
   "id": "16f1907a",
   "metadata": {},
   "outputs": [],
   "source": [
    "#Split the data into Training and testing datasets\n",
    "from sklearn.linear_model import LogisticRegression\n",
    "from sklearn.model_selection import train_test_split\n",
    "\n",
    "\n",
    "Xtrain, Xtest, ytrain, ytest = train_test_split(X_norm_df, labels, random_state=42)\n",
    "Xtrain.shape, Xtest.shape"
   ]
  },
  {
   "cell_type": "markdown",
   "id": "6ea77a7c",
   "metadata": {},
   "source": [
    "#### Logistic Regression"
   ]
  },
  {
   "cell_type": "code",
   "execution_count": null,
   "id": "3c388acb",
   "metadata": {},
   "outputs": [],
   "source": [
    "Xtrain.head(5)"
   ]
  },
  {
   "cell_type": "code",
   "execution_count": null,
   "id": "d9677f3c",
   "metadata": {},
   "outputs": [],
   "source": [
    "from sklearn.metrics import precision_score, recall_score, f1_score, confusion_matrix\n",
    "m_lgr = LogisticRegression()\n",
    "m_lgr.fit(Xtrain, ytrain)\n",
    "\n",
    "\n",
    "m_lgr_trainscore = m_lgr.score(Xtrain,ytrain)\n",
    "m_lgr_testscore = m_lgr.score(Xtest,ytest)\n",
    "\n",
    "\n",
    "ypred_lgr = m_lgr.predict(X_norm_df)\n",
    "m_lgr_precision = precision_score(labels, ypred, average='micro')\n",
    "m_lgr_recall = recall_score(labels, ypred, average='micro')\n",
    "m_lgr_fscore = f1_score(labels, ypred_lgr, average='micro')\n",
    "\n",
    "print(f'Training Score {m_lgr_trainscore}')\n",
    "print(f'Testing Score {m_lgr_testscore}')\n",
    "print(f'Precision Score {m_lgr_precision}')\n",
    "print(f'Recall Score {m_lgr_recall}')\n",
    "print(f'F1 Score {m_lgr_fscore}')"
   ]
  },
  {
   "cell_type": "code",
   "execution_count": null,
   "id": "41717a1e",
   "metadata": {},
   "outputs": [],
   "source": [
    "import seaborn as sns\n",
    "def plot_heatmap(cm):\n",
    "    \n",
    "    \"\"\"\n",
    "    Function that plots a heatmap based on a correlation matrix\n",
    "    \"\"\"\n",
    "    \n",
    "    fig = plt.figure(figsize=(6, 6))\n",
    "    ax = plt.subplot()\n",
    "    sns.heatmap(cm, annot=True,  cbar=True, \\\n",
    "                cmap = 'BuPu', vmax = 200,\\\n",
    "               xticklabels=['Madonna', 'Bryan Adams'],\\\n",
    "                yticklabels=['Madonna', 'Bryan Adams'],\\\n",
    "                linecolor='white',\\\n",
    "               linewidth=2, square = True, fmt = '.0f', robust = True); \n",
    "    plt.xlabel('Predicted')\n",
    "    plt.ylabel('Actual')\n",
    "    ax.set_xticklabels(['Madonna','Bryan Adams'])"
   ]
  },
  {
   "cell_type": "code",
   "execution_count": null,
   "id": "5756d59d",
   "metadata": {},
   "outputs": [],
   "source": [
    "len(ytrain)"
   ]
  },
  {
   "cell_type": "markdown",
   "id": "e98e9d2c",
   "metadata": {},
   "source": [
    "#### Naive Bayes Classifier"
   ]
  },
  {
   "cell_type": "code",
   "execution_count": null,
   "id": "366fcf7a",
   "metadata": {},
   "outputs": [],
   "source": [
    "from sklearn.feature_extraction.text import CountVectorizer, TfidfTransformer\n",
    "from sklearn.naive_bayes import MultinomialNB # import multinomial Naive Bayes"
   ]
  },
  {
   "cell_type": "code",
   "execution_count": null,
   "id": "e04428ad",
   "metadata": {},
   "outputs": [],
   "source": [
    "# Train the NB Model\n",
    "import nltk.metrics\n",
    "nb = MultinomialNB()\n",
    "nb.fit(Xtrain,  ytrain)\n",
    "\n",
    "nb_trainscore = nb.score(Xtrain,ytrain)\n",
    "nb_testscore = nb.score(Xtest,ytest)\n",
    "\n",
    "ypred = nb.predict(X_norm_df)\n",
    "nb_precision = precision_score(labels, ypred, average='micro')\n",
    "nb_recall = recall_score(labels, ypred, average='micro')\n",
    "nb_fscore = f1_score(labels, ypred, average='micro')\n",
    "\n",
    "print(f'Training Score {nb_trainscore}')\n",
    "print(f'Testing Score {nb_testscore}')\n",
    "print(f'Precision Score {nb_precision}')\n",
    "print(f'Recall Score {nb_recall}')\n",
    "print(f'F1 Score {nb_fscore}')"
   ]
  },
  {
   "cell_type": "markdown",
   "id": "00b2c34f",
   "metadata": {},
   "source": [
    "#### Random Forest Classifier"
   ]
  },
  {
   "cell_type": "code",
   "execution_count": null,
   "id": "a1663840",
   "metadata": {},
   "outputs": [],
   "source": [
    "from sklearn.ensemble import RandomForestClassifier\n",
    "rf = RandomForestClassifier(n_estimators = 20, max_depth = 3, random_state =10)\n",
    "rf.fit(Xtrain, ytrain)\n",
    "\n",
    "\n",
    "rf_trainscore = rf.score(Xtrain,ytrain)\n",
    "rf_testscore = rf.score(Xtest,ytest)\n",
    "\n",
    "ypred = rf.predict(X_norm_df)\n",
    "rf_precision = precision_score(labels, ypred, average='micro')\n",
    "rf_recall = recall_score(labels, ypred, average='micro')\n",
    "rf_fscore = f1_score(labels, ypred, average='micro')\n",
    "\n",
    "print(f'Training Score {rf_trainscore}')\n",
    "print(f'Testing Score {rf_testscore}')\n",
    "print(f'Precision Score {rf_precision}')\n",
    "print(f'Recall Score {rf_recall}')\n",
    "print(f'F1 Score {rf_fscore}')"
   ]
  },
  {
   "cell_type": "markdown",
   "id": "853bbb95",
   "metadata": {},
   "source": [
    "## Handle Imbalance Classes"
   ]
  },
  {
   "cell_type": "code",
   "execution_count": null,
   "id": "7eaad913",
   "metadata": {},
   "outputs": [],
   "source": [
    "labels_df = pd.DataFrame(data = labels, columns = ['artist'])\n",
    "labels_df.value_counts()"
   ]
  },
  {
   "cell_type": "code",
   "execution_count": null,
   "id": "f4af2379",
   "metadata": {},
   "outputs": [],
   "source": [
    "labels_df.value_counts()"
   ]
  },
  {
   "cell_type": "markdown",
   "id": "e6b87c66",
   "metadata": {},
   "source": [
    "# Summary of the Results"
   ]
  },
  {
   "cell_type": "code",
   "execution_count": null,
   "id": "eaf8032b",
   "metadata": {},
   "outputs": [],
   "source": [
    "pd.DataFrame({'Train Score':[m_lgr_trainscore, nb_trainscore,rf_trainscore],\n",
    "              'Test Score':[m_lgr_testscore, nb_testscore,rf_testscore],\n",
    "            'Precision':[m_lgr_precision, nb_precision, rf_precision],\n",
    "              \"recall\":[m_lgr_recall, nb_recall, rf_recall],\n",
    "             \"F1Score\":[m_lgr_fscore, nb_fscore, rf_fscore]},\n",
    "              index=['Logistic Regression','Naive Bayes','Random Forest'])"
   ]
  },
  {
   "cell_type": "markdown",
   "id": "c85ecab9",
   "metadata": {},
   "source": [
    "# Word Cloud"
   ]
  },
  {
   "cell_type": "code",
   "execution_count": null,
   "id": "0b33d954",
   "metadata": {},
   "outputs": [],
   "source": [
    "from wordcloud import ImageColorGenerator\n",
    "from wordcloud import WordCloud\n",
    "import matplotlib.pyplot as plt\n",
    "\n",
    "text = \" \".join(i for i in X_df.columns)\n",
    "stopwords = set(skl_stopwords)\n",
    "wordcloud = WordCloud(stopwords=stopwords, background_color=\"white\").generate(text)\n",
    "plt.figure( figsize=(15,10))\n",
    "plt.imshow(wordcloud, interpolation='bilinear')\n",
    "plt.axis(\"off\")\n",
    "plt.show()"
   ]
  }
 ],
 "metadata": {
  "kernelspec": {
   "display_name": "Python 3 (ipykernel)",
   "language": "python",
   "name": "python3"
  },
  "language_info": {
   "codemirror_mode": {
    "name": "ipython",
    "version": 3
   },
   "file_extension": ".py",
   "mimetype": "text/x-python",
   "name": "python",
   "nbconvert_exporter": "python",
   "pygments_lexer": "ipython3",
   "version": "3.9.12"
  }
 },
 "nbformat": 4,
 "nbformat_minor": 5
}
